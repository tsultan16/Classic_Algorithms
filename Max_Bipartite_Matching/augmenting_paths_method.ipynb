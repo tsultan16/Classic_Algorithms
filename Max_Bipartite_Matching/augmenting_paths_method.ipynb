{
 "cells": [
  {
   "cell_type": "markdown",
   "metadata": {},
   "source": [
    "### Maximum Bipartite Matching\n",
    "\n",
    "We will implement a maximum bipartite matching algorithm using the method of `augmenting paths`. Let `V` and `U` be the disjoint sets of vertices of our bipartite graph. Then we start with an initial matching which is the empty set and iteratively augment this matching. Each iteration involves finding an augmenting path connecting a pair of `free vertices`, one from `V` and the other from `U`, then adding and removing alternating edges on this path into the current matching. The algorithm ends when an augmenting path can no longer be found and the current matching is the maximum. \n",
    "\n",
    "We can implement this iterative algorithm efficiently by using bredth-first search to find augmenting paths. The pseudocode is shown below (borrowed from Levitin textbook):\n",
    "\n",
    "<img src=\"pseudocode.png\" width=\"500\" height=\"550\">\n"
   ]
  },
  {
   "cell_type": "code",
   "execution_count": 69,
   "metadata": {},
   "outputs": [],
   "source": [
    "def matching_add(U_mate, edge, V_free, U_free):\n",
    "    v, u = edge\n",
    "    U_mate[u] = v\n",
    "    V_free[v] = False\n",
    "    U_free[u] = False  \n",
    "\n",
    "def matching_remove(U_mate, edge, V_free, U_free):\n",
    "    v, u = edge\n",
    "    U_mate[u] = 0\n",
    "    V_free[v] = True\n",
    "    U_free[v] = True\n",
    "\n",
    "def reset_Q(V_free):\n",
    "    return [v for v in V_free if V_free[v]]    \n",
    "\n",
    "def max_bipartitie_matching(adjacency_list, V, U, verbose=False):\n",
    "    # initialize the matching\n",
    "    U_mate = {i:0 for i in list(U)} # mates of U vertices set to zero, i.e. not matched\n",
    "    # free vertices\n",
    "    V_free = {i:True for i in V}\n",
    "    U_free = {i:True for i in U}\n",
    "    # initialize the BFS queue with all free vertices from V\n",
    "    Q = list(V)\n",
    "    # initialize labels\n",
    "    labels = {i:0 for i in range(1, len(adjacency_list)+1)}\n",
    "    \n",
    "    # start BFS\n",
    "    while len(Q)>0:\n",
    "        if verbose: print(f\"Q: {Q}\")\n",
    "        w = Q.pop(0)\n",
    "        if verbose: print(f\"w: {w}, V_free: {V_free}, U_free: {U_free}, Q: {Q}, labels: {labels}\")\n",
    "        if w in V:\n",
    "            for u in adjacency_list[w]:\n",
    "                if verbose: print(f\"u: {u}\")\n",
    "                if U_free[u]:\n",
    "                    # found an augmenting path, start augmentation procedure\n",
    "                    if verbose: print(\"u is free, found augmenting path!\")\n",
    "                    matching_add(U_mate, (w,u), V_free, U_free)\n",
    "                    v = w\n",
    "                    while labels[v] != 0:\n",
    "                        u = labels[v]\n",
    "                        matching_remove(U_mate, (v,u), V_free, U_free)\n",
    "                        v = labels[u]\n",
    "                        matching_add(U_mate, (v,u), V_free, U_free)\n",
    "                    # after augmentation, reset labels and BFS queue, exit the loop\n",
    "                    labels = {i:0 for i in range(1, len(adjacency_list)+1)}    \n",
    "                    Q = reset_Q(V_free)\n",
    "                    break\n",
    "                else:\n",
    "                    # u is already matched, label if not already labelled\n",
    "                    if verbose: print(f\"u already matched\")\n",
    "                    if U_mate[u]!=w and labels[u] == 0:\n",
    "                        if verbose: print(\"labelling u with w\")\n",
    "                        labels[u] = w\n",
    "                        Q.append(u)    \n",
    "        else:\n",
    "            # label mate v of w with w and add it to BFS queue\n",
    "            v = U_mate[w]\n",
    "            if verbose: print(f\"mate v of w: {labels[w]}\")\n",
    "            labels[v] = w\n",
    "            Q.append(v)\n",
    "            if verbose: print(f\"Labelled v with w: {labels[v]}\")\n",
    "\n",
    "    # return the maximum matching\n",
    "    M = [(U_mate[u],u) for u in U_mate if U_mate[u]!=0]\n",
    "\n",
    "    return M"
   ]
  },
  {
   "cell_type": "code",
   "execution_count": 65,
   "metadata": {},
   "outputs": [],
   "source": [
    "# define an example (undirected) bipartite graph\n",
    "adjacency_list = {1:[6,7], 2:[6], 3:[6,8], 4:[8,9,10], 5:[9,10], 6:[1,2,3], 7:[1], 8:[3,4], 9:[4,5], 10:[4,5]}\n",
    "V = {1,2,3,4,5}\n",
    "U = {6,7,8,9,10}"
   ]
  },
  {
   "cell_type": "code",
   "execution_count": 70,
   "metadata": {},
   "outputs": [
    {
     "name": "stdout",
     "output_type": "stream",
     "text": [
      "Maximum matching: [(2, 6), (1, 7), (3, 8), (4, 9), (5, 10)]\n"
     ]
    }
   ],
   "source": [
    "max_M = max_bipartitie_matching(adjacency_list, V, U)\n",
    "print(f\"Maximum matching: {max_M}\")"
   ]
  },
  {
   "cell_type": "code",
   "execution_count": null,
   "metadata": {},
   "outputs": [],
   "source": []
  }
 ],
 "metadata": {
  "kernelspec": {
   "display_name": "torch_clone",
   "language": "python",
   "name": "python3"
  },
  "language_info": {
   "codemirror_mode": {
    "name": "ipython",
    "version": 3
   },
   "file_extension": ".py",
   "mimetype": "text/x-python",
   "name": "python",
   "nbconvert_exporter": "python",
   "pygments_lexer": "ipython3",
   "version": "3.11.5"
  }
 },
 "nbformat": 4,
 "nbformat_minor": 2
}
