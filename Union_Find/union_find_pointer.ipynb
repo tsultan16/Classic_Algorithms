{
 "cells": [
  {
   "cell_type": "markdown",
   "metadata": {},
   "source": [
    "#### Union-Find Data Structure: Pointer-Based Implementation\n",
    "\n",
    "Instead of using arrays, an alternative way of implementing a union-find data structure is pointer-based. In this approach, each item is contained inside a `record` which hold the item and a `pointer`. Initially, the pointer for each item's record is null. A null pointer indicates that a record represents a connected component labeled by the item contained in that record. \n",
    "\n",
    "We will again maintain an array `Size[n]` which stores the size of each connected component. \n",
    "\n",
    "Given two components `A` and `B`, let $u \\in A$ be the record of the item labelling `A` and $v \\in B$ be the record of the item labelling `B`. Then `Union(A,B)` operation merges the two connected components by going to the record of item labelling the smaller of the two components and updating it's pointer to point to the record of the item labelling the larger component. e.g. if `Size[A] < Size[B]`, then we would update `pointer(u) -> v` and also update the component sizes. This the cost of the union operation is $O(1)$.\n",
    "\n",
    "Given a record `u`, the `Find(u)` operation involves following the pointer of that record back to the root record, i.e. we follow the pointers until we reach a record with a null pointer, which indicates we've reached the record whose item labels the connected component containing `u`. \n",
    "\n",
    "Everytime we perform a merge, the size of the larger component can at most double. Now suppose that a particular element `v` is involved in a sequence of `Union(A,B)` operations, i.e. `v` is in either `A` or `B`. Then the size of the larger of the two components can at most double after each `Union()` merge. Since the size of the component containing `v` initially is 1 and can grow to be at most `n`, the number of such size doublings that could occur can be at most $\\log_2 n$. This mean that the number of times that the label of the connected component containing item `v` gets \"updated\" can be at most $O(\\log n)$, which means that a `Find()` operation will require traversing across at most $\\log n$ pointers and must therefore cost $O(\\log n)$ in the worst case. \n"
   ]
  },
  {
   "cell_type": "code",
   "execution_count": 3,
   "metadata": {},
   "outputs": [],
   "source": [
    "class record():\n",
    "    def __init__(self, item_id):\n",
    "        self.item_id = item_id\n",
    "        self.pointer =  None\n",
    "\n",
    "    def update_pointer(self, pointer):\n",
    "        self.pointer = pointer    \n",
    "\n",
    "\n",
    "class UnionFindPointer():\n",
    "    def __init__(self):\n",
    "        pass\n",
    "    \n",
    "    def makeUnionFind(self, S):    \n",
    "        # S contains a list of n items \n",
    "        self.S = S\n",
    "        # we assign ids 0, 1, 2, 3, ...n-1 to the items in S\n",
    "        self.item_id = {self.S[i]: i for i in range(len(S))}\n",
    "        # create records for each item\n",
    "        self.records = [record(i) for i in range(len(S))]\n",
    "        self.Size = [1 for i in range(len(S))]\n",
    "\n",
    "    def find(self, u): \n",
    "        # convert u to its corresponding id\n",
    "        u = self.item_id[u]\n",
    "        # return the root of the component containing u\n",
    "        while self.records[u].pointer:\n",
    "            u = self.records[u].pointer.item_id\n",
    "        return self.S[u]\n",
    "    \n",
    "    def union(self, A, B):\n",
    "        # convert A and B to their corresponding ids\n",
    "        A = self.item_id[A]\n",
    "        B = self.item_id[B]\n",
    "        # update the pointer of the root of the smaller component to the root of the larger component\n",
    "        if self.Size[A] < self.Size[B]:\n",
    "            self.records[A].update_pointer(self.records[B])\n",
    "            self.Size[B] += self.Size[A]\n",
    "            self.Size[A] = 0\n",
    "        else:\n",
    "            self.records[B].update_pointer(self.records[A])\n",
    "            self.Size[A] += self.Size[B]\n",
    "            self.Size[B] = 0    \n",
    "\n",
    "    def __str__(self):\n",
    "        # create dictionary of component lists\n",
    "        component_dict = {i:[] for i in self.S}\n",
    "        for i in range(len(self.S)):\n",
    "            component_dict[self.find(self.S[i])].append(self.S[i]) \n",
    "        \n",
    "        return str(component_dict)                "
   ]
  },
  {
   "cell_type": "code",
   "execution_count": 4,
   "metadata": {},
   "outputs": [
    {
     "name": "stdout",
     "output_type": "stream",
     "text": [
      "{'a': ['a'], 'b': ['b'], 'c': ['c'], 'd': ['d'], 'e': ['e'], 'f': ['f'], 'g': ['g'], 'h': ['h'], 'i': ['i'], 'j': ['j']}\n",
      "{'a': ['a', 'b'], 'b': [], 'c': ['c'], 'd': ['d'], 'e': ['e'], 'f': ['f'], 'g': ['g'], 'h': ['h'], 'i': ['i'], 'j': ['j']}\n",
      "{'a': ['a', 'b', 'd'], 'b': [], 'c': ['c'], 'd': [], 'e': ['e'], 'f': ['f'], 'g': ['g'], 'h': ['h'], 'i': ['i'], 'j': ['j']}\n",
      "{'a': ['a', 'b', 'd'], 'b': [], 'c': ['c'], 'd': [], 'e': ['e'], 'f': ['f', 'j'], 'g': ['g'], 'h': ['h'], 'i': ['i'], 'j': []}\n"
     ]
    }
   ],
   "source": [
    "S = ['a', 'b', 'c', 'd', 'e', 'f', 'g', 'h', 'i', 'j']\n",
    "uf = UnionFindPointer()\n",
    "uf.makeUnionFind(S)\n",
    "print(uf)\n",
    "\n",
    "uf.union(uf.find('a'), uf.find('b'))\n",
    "print(uf)\n",
    "uf.union(uf.find('a'), uf.find('d'))\n",
    "print(uf)\n",
    "uf.union(uf.find('f'), uf.find('j'))\n",
    "print(uf)"
   ]
  },
  {
   "cell_type": "markdown",
   "metadata": {},
   "source": [
    "#### Optimization: Path Compression\n",
    "\n",
    "Every time we invoke the `Find(u)` operation, we have to follow the backpointers all the way back to the root record. Now imagine that we make successive calls for records that are all in the same component. On many of these call, we may end up following a lot of the same back pointers. However, after the first call, we already know the root of all records along the path. We can remove all the redundant path traversing by `compressing` the path after each call to `Find(u)`. By this, we mean that after each call, we reset the pointers of all records along the path to point to the same root. Then on a subsequent call, the traversal will reach the root in a single step from any record along that path.\n",
    "\n"
   ]
  },
  {
   "cell_type": "code",
   "execution_count": 7,
   "metadata": {},
   "outputs": [],
   "source": [
    "\n",
    "class UnionFindPointer_Optimized():\n",
    "    def __init__(self):\n",
    "        pass\n",
    "    \n",
    "    def makeUnionFind(self, S):    \n",
    "        # S contains a list of n items \n",
    "        self.S = S\n",
    "        # we assign ids 0, 1, 2, 3, ...n-1 to the items in S\n",
    "        self.item_id = {self.S[i]: i for i in range(len(S))}\n",
    "        # create records for each item\n",
    "        self.records = [record(i) for i in range(len(S))]\n",
    "        self.Size = [1 for i in range(len(S))]\n",
    "\n",
    "    def find(self, u): \n",
    "        # convert u to its corresponding id\n",
    "        u = self.item_id[u]\n",
    "        # follow the pointers back to root, store every record along the way in a list\n",
    "        path = []\n",
    "        while self.records[u].pointer:\n",
    "            path.append(u)\n",
    "            u = self.records[u].pointer.item_id\n",
    "        root_id = u\n",
    "        # path compression: reset the pointers of all the records in the path to the root\n",
    "        for item_id in path:\n",
    "            self.records[item_id].update_pointer(self.records[root_id])        \n",
    "        return self.S[root_id]\n",
    "    \n",
    "    def union(self, A, B):\n",
    "        # convert A and B to their corresponding ids\n",
    "        A = self.item_id[A]\n",
    "        B = self.item_id[B]\n",
    "        # update the pointer of the root of the smaller component to the root of the larger component\n",
    "        if self.Size[A] < self.Size[B]:\n",
    "            self.records[A].update_pointer(self.records[B])\n",
    "            self.Size[B] += self.Size[A]\n",
    "            self.Size[A] = 0\n",
    "        else:\n",
    "            self.records[B].update_pointer(self.records[A])\n",
    "            self.Size[A] += self.Size[B]\n",
    "            self.Size[B] = 0    \n",
    "\n",
    "    def __str__(self):\n",
    "        # create dictionary of component lists\n",
    "        component_dict = {i:[] for i in self.S}\n",
    "        for i in range(len(self.S)):\n",
    "            component_dict[self.find(self.S[i])].append(self.S[i]) \n",
    "        \n",
    "        return str(component_dict)                "
   ]
  },
  {
   "cell_type": "code",
   "execution_count": 8,
   "metadata": {},
   "outputs": [
    {
     "name": "stdout",
     "output_type": "stream",
     "text": [
      "{'a': ['a'], 'b': ['b'], 'c': ['c'], 'd': ['d'], 'e': ['e'], 'f': ['f'], 'g': ['g'], 'h': ['h'], 'i': ['i'], 'j': ['j']}\n",
      "{'a': ['a', 'b'], 'b': [], 'c': ['c'], 'd': ['d'], 'e': ['e'], 'f': ['f'], 'g': ['g'], 'h': ['h'], 'i': ['i'], 'j': ['j']}\n",
      "{'a': ['a', 'b', 'd'], 'b': [], 'c': ['c'], 'd': [], 'e': ['e'], 'f': ['f'], 'g': ['g'], 'h': ['h'], 'i': ['i'], 'j': ['j']}\n",
      "{'a': ['a', 'b', 'd'], 'b': [], 'c': ['c'], 'd': [], 'e': ['e'], 'f': ['f', 'j'], 'g': ['g'], 'h': ['h'], 'i': ['i'], 'j': []}\n"
     ]
    }
   ],
   "source": [
    "S = ['a', 'b', 'c', 'd', 'e', 'f', 'g', 'h', 'i', 'j']\n",
    "uf = UnionFindPointer_Optimized()\n",
    "uf.makeUnionFind(S)\n",
    "print(uf)\n",
    "\n",
    "uf.union(uf.find('a'), uf.find('b'))\n",
    "print(uf)\n",
    "uf.union(uf.find('a'), uf.find('d'))\n",
    "print(uf)\n",
    "uf.union(uf.find('f'), uf.find('j'))\n",
    "print(uf)"
   ]
  },
  {
   "cell_type": "code",
   "execution_count": null,
   "metadata": {},
   "outputs": [],
   "source": []
  }
 ],
 "metadata": {
  "kernelspec": {
   "display_name": "torch_clone",
   "language": "python",
   "name": "python3"
  },
  "language_info": {
   "codemirror_mode": {
    "name": "ipython",
    "version": 3
   },
   "file_extension": ".py",
   "mimetype": "text/x-python",
   "name": "python",
   "nbconvert_exporter": "python",
   "pygments_lexer": "ipython3",
   "version": "3.11.5"
  }
 },
 "nbformat": 4,
 "nbformat_minor": 2
}
