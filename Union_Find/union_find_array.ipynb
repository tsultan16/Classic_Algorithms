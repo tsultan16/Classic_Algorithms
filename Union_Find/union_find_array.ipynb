{
 "cells": [
  {
   "cell_type": "markdown",
   "metadata": {},
   "source": [
    "#### Union-Find Data Structure: Naive Array Implementation\n",
    "\n",
    "Given a set of $n$ items $S = \\{1,2,..,n\\}$, we intialize a separate connected component for each item. We use an array `Component[n]` whose $ith$ element gives the label of the connected component containing item $i$. Initially, we set `Component[i]=i` for $i=1,2,..,n$, i.e. we initialize the label of each component to be the id of the item it contains. \n",
    "\n",
    "We also maintain another array `Size[n]` which stores the size of each component, so initially `Size[i]=1` for $i=1,2,..,n$.\n",
    "\n",
    "The data structure needs to support three main operation:\n",
    "\n",
    "1) `MakeUnionFind(S)`: this creates the union find data structure given a set `S`\n",
    "2) `Find(u)`: this returns the label of the component containing item with id `u`\n",
    "3) `Union(A,B)`: this merges the two components with labeles `A` and `B`\n",
    "\n",
    "`MakeUnionFind(S)` just initializes the arrays `Component[n]` and `Size[n]`, so this operation takes $O(n)$ time.\n",
    "\n",
    "`Find(u)` is simple an array lookup, we just return `Component[u]`, so this operation takes $O(1)$ time. \n",
    "\n",
    "`Union(A,B)` can be implemented by first comparing `Size[A]` with `Size[B]`, then updating the label corresponding to each item of the smaller component with the label of the label of the larger component. e.g. if `Size[A] > Size[B]`, then we update `Component[i]=A` for each `i` that currently has `Component[i]=B`. This operation clearly takes $O(n)$ time as it requires scanning through the entire `Component[n]` array.  \n",
    "\n",
    "\n"
   ]
  },
  {
   "cell_type": "code",
   "execution_count": 15,
   "metadata": {},
   "outputs": [],
   "source": [
    "class UnionFindNaive():\n",
    "    def __init__(self):\n",
    "        pass\n",
    "    \n",
    "    def makeUnionFind(self, S):    \n",
    "        # S contains a list of n items \n",
    "        self.S = S\n",
    "        # we assign ids 0, 1, 2, 3, ...n-1 to the items in S\n",
    "        self.item_id = {self.S[i]: i for i in range(len(S))}\n",
    "        self.Component = list(range(len(S)))\n",
    "        self.Size = [1 for i in range(len(S))]\n",
    "\n",
    "    def find(self, u): \n",
    "        return self.Component[self.item_id[u]]\n",
    "    \n",
    "    def union(self, A, B):\n",
    "        if self.Size[A] < self.Size[B]:\n",
    "            for i in range(len(self.Component)):\n",
    "                if self.Component[i] == A:\n",
    "                    self.Component[i] = B\n",
    "        else:\n",
    "            for i in range(len(self.Component)):\n",
    "                if self.Component[i] == B:\n",
    "                    self.Component[i] = A        \n",
    "\n",
    "    def __str__(self):\n",
    "        # create dictionary of component lists\n",
    "        component_dict = {i:[] for i in range(len(self.Component))}\n",
    "        for i in range(len(self.Component)):\n",
    "            component_dict[self.Component[i]].append(self.S[i])\n",
    "        return str(component_dict)                "
   ]
  },
  {
   "cell_type": "code",
   "execution_count": 16,
   "metadata": {},
   "outputs": [
    {
     "name": "stdout",
     "output_type": "stream",
     "text": [
      "{0: ['a'], 1: ['b'], 2: ['c'], 3: ['d'], 4: ['e'], 5: ['f'], 6: ['g'], 7: ['h'], 8: ['i'], 9: ['j']}\n",
      "{0: ['a', 'b'], 1: [], 2: ['c'], 3: ['d'], 4: ['e'], 5: ['f'], 6: ['g'], 7: ['h'], 8: ['i'], 9: ['j']}\n",
      "{0: ['a', 'b', 'd'], 1: [], 2: ['c'], 3: [], 4: ['e'], 5: ['f'], 6: ['g'], 7: ['h'], 8: ['i'], 9: ['j']}\n",
      "{0: ['a', 'b', 'd'], 1: [], 2: ['c'], 3: [], 4: ['e'], 5: ['f', 'j'], 6: ['g'], 7: ['h'], 8: ['i'], 9: []}\n"
     ]
    }
   ],
   "source": [
    "S = ['a', 'b', 'c', 'd', 'e', 'f', 'g', 'h', 'i', 'j']\n",
    "uf = UnionFindNaive()\n",
    "uf.makeUnionFind(S)\n",
    "print(uf)\n",
    "\n",
    "uf.union(uf.find('a'), uf.find('b'))\n",
    "print(uf)\n",
    "uf.union(uf.find('a'), uf.find('d'))\n",
    "print(uf)\n",
    "uf.union(uf.find('f'), uf.find('j'))\n",
    "print(uf)"
   ]
  },
  {
   "cell_type": "markdown",
   "metadata": {},
   "source": [
    "#### Optimization 1:\n",
    "\n",
    "We can improve performance by maintaining a separate list for each component containing the ids of items in that comnponent. This way, we don't need to scan through the entire `Comnponent[n]` array to find out which items get their comnponent label updated during `Union()` operation.      "
   ]
  },
  {
   "cell_type": "code",
   "execution_count": 19,
   "metadata": {},
   "outputs": [],
   "source": [
    "class UnionFindOptimized_1():\n",
    "    def __init__(self):\n",
    "        pass\n",
    "    \n",
    "    def makeUnionFind(self, S):    \n",
    "        # S contains a list of n items \n",
    "        self.S = S\n",
    "        # we assign ids 0, 1, 2, 3, ...n-1 to the items in S\n",
    "        self.item_id = {self.S[i]: i for i in range(len(S))}\n",
    "        self.Component = list(range(len(S)))\n",
    "        self.Size = [1 for i in range(len(S))]\n",
    "        # create dictionary of component lists\n",
    "        self.Component_list = {i:[i] for i in range(len(self.Component))}\n",
    "\n",
    "    def find(self, u): \n",
    "        return self.Component[self.item_id[u]]\n",
    "    \n",
    "    def union(self, A, B):\n",
    "        if self.Size[A] < self.Size[B]:\n",
    "            # update component labels of all items in component A\n",
    "            for i in self.Component_list[A]:\n",
    "                self.Component[i] = B\n",
    "                self.Component_list[B].append(i)\n",
    "            # update size of component B\n",
    "            self.Size[B] += self.Size[A]\n",
    "            # empty out component A list\n",
    "            self.Component_list[A] = []\n",
    "        else:\n",
    "            # update component labels of all items in component B\n",
    "            for i in self.Component_list[B]:\n",
    "                self.Component[i] = A\n",
    "                self.Component_list[A].append(i)\n",
    "            # update size of component A\n",
    "            self.Size[A] += self.Size[B]\n",
    "            # empty out component B list\n",
    "            self.Component_list[B] = []    \n",
    "\n",
    "    def __str__(self):\n",
    "        # create dictionary of component lists\n",
    "        component_dict = {i:[] for i in range(len(self.Component))}\n",
    "        for i in range(len(self.Component)):\n",
    "            component_dict[self.Component[i]].append(self.S[i])\n",
    "        return str(component_dict)                "
   ]
  },
  {
   "cell_type": "code",
   "execution_count": 20,
   "metadata": {},
   "outputs": [
    {
     "name": "stdout",
     "output_type": "stream",
     "text": [
      "{0: ['a'], 1: ['b'], 2: ['c'], 3: ['d'], 4: ['e'], 5: ['f'], 6: ['g'], 7: ['h'], 8: ['i'], 9: ['j']}\n",
      "{0: ['a', 'b'], 1: [], 2: ['c'], 3: ['d'], 4: ['e'], 5: ['f'], 6: ['g'], 7: ['h'], 8: ['i'], 9: ['j']}\n",
      "{0: ['a', 'b', 'd'], 1: [], 2: ['c'], 3: [], 4: ['e'], 5: ['f'], 6: ['g'], 7: ['h'], 8: ['i'], 9: ['j']}\n",
      "{0: ['a', 'b', 'd'], 1: [], 2: ['c'], 3: [], 4: ['e'], 5: ['f', 'j'], 6: ['g'], 7: ['h'], 8: ['i'], 9: []}\n"
     ]
    }
   ],
   "source": [
    "S = ['a', 'b', 'c', 'd', 'e', 'f', 'g', 'h', 'i', 'j']\n",
    "uf = UnionFindOptimized_1()\n",
    "uf.makeUnionFind(S)\n",
    "print(uf)\n",
    "\n",
    "uf.union(uf.find('a'), uf.find('b'))\n",
    "print(uf)\n",
    "uf.union(uf.find('a'), uf.find('d'))\n",
    "print(uf)\n",
    "uf.union(uf.find('f'), uf.find('j'))\n",
    "print(uf)"
   ]
  },
  {
   "cell_type": "markdown",
   "metadata": {},
   "source": [
    "Note on performance:\n",
    "\n",
    "Even though the `Union(A,B)` operation runs in $O(n)$ in the worst-case when components `A` and `B` each contain some sizable fraction of items, e.g. $|A| = |B| = \\frac{n}{2}$, in practice, one of the components tends to be very small, e.g. in the case of Kruskal's algorithm for minimum spanning trees, every time we add an edge, we always merge the subtree connected component which may be a sizable fraction of $n$ to a much smaller connected component, so this simple array implementation will work good enough for the task.\n",
    "\n",
    "If we do a more careful analysis, we can prove that the run time of a sequence of `k` `Union()` operations, starting from the initial state of the array-implementation Union-Find data structure is actually upper-bounded by $O(k \\log(k))$ and not $O(kn)$. Initially, size of each component is 1. And performing k `Union()` operations can touch at most $2k$ items. Now suppose that a particular element `v` is involved in a sequence of `Union(A,B)` operations, i.e. `v` is in either `A` or `B`. Then the size of the larger of the two components can at most double after each `Union()` merge. Since the total number of items involved is at most `2k`, the number of such size doublings that could occur, which is also the number of times that `Component[v]` gets updated, can be at most $\\log_2 2k$. So if the component label of each of the $2k$ items gets updated at most $\\log_2 2k$ times, then the total number of such updates must be $O(k \\log k)$.      \n"
   ]
  },
  {
   "cell_type": "code",
   "execution_count": null,
   "metadata": {},
   "outputs": [],
   "source": []
  },
  {
   "cell_type": "code",
   "execution_count": null,
   "metadata": {},
   "outputs": [],
   "source": []
  }
 ],
 "metadata": {
  "kernelspec": {
   "display_name": "torch_clone",
   "language": "python",
   "name": "python3"
  },
  "language_info": {
   "codemirror_mode": {
    "name": "ipython",
    "version": 3
   },
   "file_extension": ".py",
   "mimetype": "text/x-python",
   "name": "python",
   "nbconvert_exporter": "python",
   "pygments_lexer": "ipython3",
   "version": "3.11.5"
  }
 },
 "nbformat": 4,
 "nbformat_minor": 2
}
