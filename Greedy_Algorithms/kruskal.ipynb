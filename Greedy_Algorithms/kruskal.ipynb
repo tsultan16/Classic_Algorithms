{
 "cells": [
  {
   "cell_type": "markdown",
   "metadata": {},
   "source": [
    "#### Kruskal's algorithm for Minimum Spanning Tree\n",
    "\n",
    "Kruskal's algorithm implementation using pointer-based Union-Find data structure."
   ]
  },
  {
   "cell_type": "code",
   "execution_count": 1,
   "metadata": {},
   "outputs": [],
   "source": [
    "class record():\n",
    "    def __init__(self, item_id):\n",
    "        self.item_id = item_id\n",
    "        self.pointer =  None\n",
    "\n",
    "    def update_pointer(self, pointer):\n",
    "        self.pointer = pointer    \n",
    "\n",
    "class UnionFindPointer_Optimized():\n",
    "    def __init__(self):\n",
    "        pass\n",
    "    \n",
    "    def makeUnionFind(self, S):    \n",
    "        # S contains a list of n items \n",
    "        self.S = S\n",
    "        # we assign ids 0, 1, 2, 3, ...n-1 to the items in S\n",
    "        self.item_id = {self.S[i]: i for i in range(len(S))}\n",
    "        # create records for each item\n",
    "        self.records = [record(i) for i in range(len(S))]\n",
    "        self.Size = [1 for i in range(len(S))]\n",
    "\n",
    "    def find(self, u): \n",
    "        # convert u to its corresponding id\n",
    "        u = self.item_id[u]\n",
    "        # follow the pointers back to root, store every record along the way in a list\n",
    "        path = []\n",
    "        while self.records[u].pointer:\n",
    "            path.append(u)\n",
    "            u = self.records[u].pointer.item_id\n",
    "        root_id = u\n",
    "        # path compression: reset the pointers of all the records in the path to the root\n",
    "        for item_id in path:\n",
    "            self.records[item_id].update_pointer(self.records[root_id])        \n",
    "        return self.S[root_id]\n",
    "    \n",
    "    def union(self, A, B):\n",
    "        # convert A and B to their corresponding ids\n",
    "        A = self.item_id[A]\n",
    "        B = self.item_id[B]\n",
    "        # update the pointer of the root of the smaller component to the root of the larger component\n",
    "        if self.Size[A] < self.Size[B]:\n",
    "            self.records[A].update_pointer(self.records[B])\n",
    "            self.Size[B] += self.Size[A]\n",
    "            self.Size[A] = 0\n",
    "        else:\n",
    "            self.records[B].update_pointer(self.records[A])\n",
    "            self.Size[A] += self.Size[B]\n",
    "            self.Size[B] = 0    \n",
    "\n",
    "    def __str__(self):\n",
    "        # create dictionary of component lists\n",
    "        component_dict = {i:[] for i in self.S}\n",
    "        for i in range(len(self.S)):\n",
    "            component_dict[self.find(self.S[i])].append(self.S[i]) \n",
    "        \n",
    "        return str(component_dict)                "
   ]
  },
  {
   "cell_type": "code",
   "execution_count": 2,
   "metadata": {},
   "outputs": [],
   "source": [
    "def kruskal(adjacency_list, verbose=False):\n",
    "    # vertices\n",
    "    V = list(adjacency_list.keys())\n",
    "    # get all edges\n",
    "    edges = []\n",
    "    for v in adjacency_list.keys():\n",
    "        for (w, l_vw) in adjacency_list[v]:\n",
    "            edges.append((l_vw, v, w))\n",
    "    # sort edges in increasing order of weight\n",
    "    edges.sort(key=lambda x: x[0]) \n",
    "    # initialize union find data structure\n",
    "    UF = UnionFindPointer_Optimized()\n",
    "    UF.makeUnionFind(V)\n",
    "    print(UF)\n",
    "    # initialize empty tree\n",
    "    T = []\n",
    "\n",
    "    # iterate over sorted edges\n",
    "    for (l_vw, v, w) in edges:\n",
    "        # if v and w are in different components, then add the edge to tree and merge the components\n",
    "        if UF.find(v) != UF.find(w):\n",
    "            # add edge to tree\n",
    "            T.append((v, w, l_vw))\n",
    "            # merge components\n",
    "            UF.union(UF.find(v), UF.find(w))\n",
    "            if verbose:\n",
    "                print(f\"Adding edge {v} - {w} to tree\")\n",
    "                print(UF)    \n",
    "\n",
    "    # return minimum spanning tree\n",
    "    return T\n"
   ]
  },
  {
   "cell_type": "code",
   "execution_count": 3,
   "metadata": {},
   "outputs": [
    {
     "name": "stdout",
     "output_type": "stream",
     "text": [
      "{'a': ['a'], 'b': ['b'], 'c': ['c'], 'd': ['d'], 'e': ['e'], 'f': ['f']}\n",
      "Adding edge b - c to tree\n",
      "{'a': ['a'], 'b': ['b', 'c'], 'c': [], 'd': ['d'], 'e': ['e'], 'f': ['f']}\n",
      "Adding edge e - f to tree\n",
      "{'a': ['a'], 'b': ['b', 'c'], 'c': [], 'd': ['d'], 'e': ['e', 'f'], 'f': []}\n",
      "Adding edge a - b to tree\n",
      "{'a': [], 'b': ['a', 'b', 'c'], 'c': [], 'd': ['d'], 'e': ['e', 'f'], 'f': []}\n",
      "Adding edge b - f to tree\n",
      "{'a': [], 'b': ['a', 'b', 'c', 'e', 'f'], 'c': [], 'd': ['d'], 'e': [], 'f': []}\n",
      "Adding edge d - f to tree\n",
      "{'a': [], 'b': ['a', 'b', 'c', 'd', 'e', 'f'], 'c': [], 'd': [], 'e': [], 'f': []}\n",
      "\n",
      "Minimum spanning tree: [('b', 'c', 1), ('e', 'f', 2), ('a', 'b', 3), ('b', 'f', 4), ('d', 'f', 5)]\n"
     ]
    }
   ],
   "source": [
    "# example graph (adjacency_list implemented using dictionary for clarity)\n",
    "adjacency_list = {'a':[('b',3),('e',6),('f',5)], 'b':[('a',3),('c',1),('f',4)], 'c':[('b',1),('d',6),('f',4)], 'd':[('c',6),('e',8),('f',5)], 'e':[('a',6),('d',8),('f',2)], 'f':[('a',5),('b',4),('c',4),('d',5),('e',2)]}\n",
    "\n",
    "T = kruskal(adjacency_list, verbose=True)\n",
    "print(f\"\\nMinimum spanning tree: {T}\")"
   ]
  },
  {
   "cell_type": "code",
   "execution_count": null,
   "metadata": {},
   "outputs": [],
   "source": []
  },
  {
   "cell_type": "code",
   "execution_count": null,
   "metadata": {},
   "outputs": [],
   "source": []
  }
 ],
 "metadata": {
  "kernelspec": {
   "display_name": "torch_clone",
   "language": "python",
   "name": "python3"
  },
  "language_info": {
   "codemirror_mode": {
    "name": "ipython",
    "version": 3
   },
   "file_extension": ".py",
   "mimetype": "text/x-python",
   "name": "python",
   "nbconvert_exporter": "python",
   "pygments_lexer": "ipython3",
   "version": "3.11.5"
  }
 },
 "nbformat": 4,
 "nbformat_minor": 2
}
