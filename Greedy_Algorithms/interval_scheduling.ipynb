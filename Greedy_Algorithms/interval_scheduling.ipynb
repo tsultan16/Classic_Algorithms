{
 "cells": [
  {
   "cell_type": "markdown",
   "metadata": {},
   "source": [
    "#### Interval Scheduling\n",
    "\n",
    "In this problem, we have a set of `requests/jobs` $A=\\{1,2,..,n\\}$, the $ith$ request corresponds to an interval with `start-time` $s(i)$ and `finish-time` $f(i)$. We have a single `resource` that can fulfill at most one request in a given interval of time. If two or more requests have overlapping intervals, then they are said to be `incompatible`. Our goal then is to `maximize the number of compatible requests that can be fullfilled by the resource`. \n",
    "\n",
    "<img src=\"intervals.png\" width=\"400\" height=\"100\">\n",
    "\n",
    "In this example (borrowed from Kleinberg textbook), we can see that an optimal set of compatible requests that can be fulfilled is given by $R=\\{1,3,5,8\\}$ (in this case, we clearly have two optimal sets with $|R|=4$).\n",
    "\n",
    "A simple `greedy` algorithm for finding an optimal solution is the following: \n",
    "\n",
    "1) Given the set of requests $A$ and empty set $R$\n",
    "2) Find the request $i \\in A$ which has the earliest finish-time $f(i)$, add $i$ to $R$, then remove $i$ and all requests incompatible with $i$ from $A$\n",
    "3) If A is not empty, go back to step 2, otherwise return R which is an optimal solution   \n",
    "\n",
    "Intuitively, since we're always picking the next avaliable request that finishes the earliest, we can get started with the next the request sooner which allows us to fullfill the largest number of requests. (For formal proof by induction, see Kleinberg textbook). \n",
    "\n",
    "To implement this algorithm, we can first sort the requests in $A$ by their finish-time and let $i=0$. Then we start by popping out the first request in the sorted list and putting it in $R$. To find all incompatible requests, we simply scan all requests $j$ from the $ith$ position onwards and check whether $s(j) <= f(i)$ which is the condition for incompatibility/overlap, then all requests before the first $j$ for which $s(j) > f(i)$ are incompatibe, so will not be considered further and we start again from $i=j$."
   ]
  },
  {
   "cell_type": "code",
   "execution_count": 9,
   "metadata": {},
   "outputs": [],
   "source": [
    "# implementation\n",
    "def interval_schedule(A):\n",
    "    # first, sort the intervals by finish time\n",
    "    A.sort(key=lambda x: x[2])\n",
    "    # initialize solution list\n",
    "    R = []\n",
    "    # find optimal solution\n",
    "    i = 0\n",
    "    while i<len(A):\n",
    "        # add earliest finishing request\n",
    "        R.append(A[i][0])\n",
    "        # find next compatible request\n",
    "        for j in range(i+1, len(A)+1):\n",
    "            if j < len(A):\n",
    "                if (A[j][1] >= A[i][2]):\n",
    "                    break\n",
    "        i = j\n",
    "\n",
    "    return R    \n"
   ]
  },
  {
   "cell_type": "code",
   "execution_count": 12,
   "metadata": {},
   "outputs": [
    {
     "name": "stdout",
     "output_type": "stream",
     "text": [
      "Optimal set of compatible requests: [1, 3, 5, 8]\n"
     ]
    }
   ],
   "source": [
    "# example requests, each request is a tuple (id, start, finish)\n",
    "A = [(1,0,1), (2,0,1.5), (3,1.4,2.5), (4,2.1,2.6), (5,2.9,4), (6,0,4.2), (7,3.25,4.3), (8,4.8,5.5), (9,4.5,6)]\n",
    "\n",
    "# find optimal solution\n",
    "R = interval_schedule(A)\n",
    "print(f\"Optimal set of compatible requests: {R}\")"
   ]
  },
  {
   "cell_type": "code",
   "execution_count": null,
   "metadata": {},
   "outputs": [],
   "source": []
  },
  {
   "cell_type": "code",
   "execution_count": null,
   "metadata": {},
   "outputs": [],
   "source": []
  },
  {
   "cell_type": "code",
   "execution_count": null,
   "metadata": {},
   "outputs": [],
   "source": []
  }
 ],
 "metadata": {
  "kernelspec": {
   "display_name": "torch_clone",
   "language": "python",
   "name": "python3"
  },
  "language_info": {
   "codemirror_mode": {
    "name": "ipython",
    "version": 3
   },
   "file_extension": ".py",
   "mimetype": "text/x-python",
   "name": "python",
   "nbconvert_exporter": "python",
   "pygments_lexer": "ipython3",
   "version": "3.11.5"
  }
 },
 "nbformat": 4,
 "nbformat_minor": 2
}
