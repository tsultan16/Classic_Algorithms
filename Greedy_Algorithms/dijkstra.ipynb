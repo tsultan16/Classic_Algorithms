{
 "cells": [
  {
   "cell_type": "markdown",
   "metadata": {},
   "source": [
    "#### Single Source Shortest Path (Dijkstra) Algorithm\n",
    "\n",
    "Implementation of Dijkstra's algorithm using priority queue (min-heap)"
   ]
  },
  {
   "cell_type": "code",
   "execution_count": 3,
   "metadata": {},
   "outputs": [],
   "source": [
    "class PriorityQueue:\n",
    "    def __init__(self, capacity=10, items=[]):\n",
    "        self.empty = (0,'Null')\n",
    "        if len(items)>0:\n",
    "            assert capacity >= len(items), \"capacity must be greater than or equal to the number of items!\"\n",
    "            self.N = len(items)\n",
    "            self.queue = [self.empty] + items + [self.empty] * (capacity-self.N)\n",
    "            self.positions = {item[1]:i for i,item in enumerate(self.queue) if item != self.empty}\n",
    "            # heapify\n",
    "            self.heapify()\n",
    "        else:    \n",
    "            self.queue = [self.empty] * (capacity+1) \n",
    "            self.N = 0\n",
    "\n",
    "    def heapify(self):\n",
    "        # start from the last parent node up to root\n",
    "        for i in range(self.N//2, 0, -1):\n",
    "            # apply heapify down\n",
    "            self.heapify_down(i)\n",
    "\n",
    "    def heapify_up(self, i):\n",
    "        if i > 1:\n",
    "            current_item = self.queue[i]\n",
    "            parent_item = self.queue[i//2]\n",
    "            if current_item[0] < parent_item[0]:\n",
    "                # swap with parent\n",
    "                self.queue[i//2] = current_item\n",
    "                self.queue[i] = parent_item\n",
    "                # update positions of swapped items\n",
    "                self.positions[self.queue[i//2][1]] = i//2\n",
    "                self.positions[self.queue[i][1]] = i\n",
    "                # recurse from parent position\n",
    "                self.heapify_up(i//2) \n",
    "\n",
    "    def heapify_down(self, i):\n",
    "        if 2*i > self.N:\n",
    "            return \n",
    "        elif 2*i < self.N:    \n",
    "            # get index of child with the smaller key\n",
    "            if self.queue[2*i][0] <= self.queue[2*i+1][0]:\n",
    "                j = 2*i\n",
    "            else:\n",
    "                j= 2*i+1    \n",
    "        else:\n",
    "            j = 2*i\n",
    "        current_item = self.queue[i]\n",
    "        if current_item[0] > self.queue[j][0]:\n",
    "            # swap with smallest child\n",
    "            self.queue[i] = self.queue[j]\n",
    "            self.queue[j] = current_item\n",
    "            # update positions of swapped items\n",
    "            self.positions[self.queue[i][1]] = i\n",
    "            self.positions[self.queue[j][1]] = j\n",
    "            # recurse from child position\n",
    "            self.heapify_down(j)\n",
    "\n",
    "    def insert(self, item):\n",
    "        # insert item into first unoccupied slot\n",
    "        self.queue[self.N+1] = item\n",
    "        self.positions[item[1]] = self.N+1\n",
    "        # heapify up\n",
    "        self.heapify_up(self.N+1)        \n",
    "        self.N += 1\n",
    "\n",
    "    def extract_min(self):\n",
    "        # swap root with the last item\n",
    "        min_item = self.queue[1]\n",
    "        self.positions[min_item[1]] = -1 # set position of removed item to -1\n",
    "        self.queue[1] = self.queue[self.N]\n",
    "        self.queue[self.N] = self.empty\n",
    "        self.N -= 1\n",
    "        # heapify down\n",
    "        self.heapify_down(1)\n",
    "        return min_item\n",
    "\n",
    "    def delete(self, i):\n",
    "        current_item = self.queue[i]\n",
    "        self.positions[current_item[1]] = -1 # set position of removed item to -1\n",
    "        # swap with last item\n",
    "        self.queue[i] = self.queue[self.N]\n",
    "        self.queue[self.N] = self.empty\n",
    "        self.N -= 1\n",
    "        # check if we need to heapify up or down\n",
    "        if current_item[0] < self.queue[i//2][0]:\n",
    "            self.heapify_up(i)\n",
    "        else:\n",
    "            self.heapify_down(i)\n",
    "        return current_item\n",
    "\n",
    "    def update_key(self, item_id, new_key):\n",
    "        # get current position of item \n",
    "        i = self.positions[item_id]\n",
    "        if i == -1:\n",
    "            # item not in priority queue\n",
    "            return\n",
    "        (old_key, _) = self.queue[i]\n",
    "        # update the item key\n",
    "        self.queue[i] = (new_key, item_id)\n",
    "        # check if we need to heapify up or down\n",
    "        if new_key < old_key:\n",
    "            self.heapify_up(i)\n",
    "        else:\n",
    "            self.heapify_down(i)\n",
    "\n",
    "    def __str__(self):\n",
    "        print(f\"N = {self.N}\")\n",
    "        return str(self.queue)  "
   ]
  },
  {
   "cell_type": "code",
   "execution_count": 5,
   "metadata": {},
   "outputs": [
    {
     "name": "stdout",
     "output_type": "stream",
     "text": [
      "N = 7\n",
      "[(0, 'Null'), (2, 'c'), (5, 'e'), (3, 'g'), (12, 'd'), (7, 'b'), (9, 'f'), (4, 'a'), (0, 'Null'), (0, 'Null'), (0, 'Null')]\n"
     ]
    }
   ],
   "source": [
    "items = [(4, 'a'), (7, 'b'), (2, 'c'), (12, 'd'), (5, 'e'), (9, 'f'), (3, 'g')]\n",
    "Q = PriorityQueue(items=items)\n",
    "print(Q)"
   ]
  },
  {
   "cell_type": "code",
   "execution_count": 6,
   "metadata": {},
   "outputs": [
    {
     "name": "stdout",
     "output_type": "stream",
     "text": [
      "N = 7\n",
      "[(0, 'Null'), (1, 'a'), (5, 'e'), (2, 'c'), (12, 'd'), (7, 'b'), (9, 'f'), (3, 'g'), (0, 'Null'), (0, 'Null'), (0, 'Null')]\n"
     ]
    }
   ],
   "source": [
    "Q.update_key('a', 1)\n",
    "print(Q)"
   ]
  },
  {
   "cell_type": "code",
   "execution_count": null,
   "metadata": {},
   "outputs": [],
   "source": [
    "def dijkstra()"
   ]
  },
  {
   "cell_type": "code",
   "execution_count": null,
   "metadata": {},
   "outputs": [],
   "source": []
  },
  {
   "cell_type": "code",
   "execution_count": null,
   "metadata": {},
   "outputs": [],
   "source": []
  },
  {
   "cell_type": "code",
   "execution_count": null,
   "metadata": {},
   "outputs": [],
   "source": []
  },
  {
   "cell_type": "code",
   "execution_count": null,
   "metadata": {},
   "outputs": [],
   "source": []
  },
  {
   "cell_type": "code",
   "execution_count": null,
   "metadata": {},
   "outputs": [],
   "source": []
  }
 ],
 "metadata": {
  "kernelspec": {
   "display_name": "torch_clone",
   "language": "python",
   "name": "python3"
  },
  "language_info": {
   "codemirror_mode": {
    "name": "ipython",
    "version": 3
   },
   "file_extension": ".py",
   "mimetype": "text/x-python",
   "name": "python",
   "nbconvert_exporter": "python",
   "pygments_lexer": "ipython3",
   "version": "3.11.5"
  }
 },
 "nbformat": 4,
 "nbformat_minor": 2
}
