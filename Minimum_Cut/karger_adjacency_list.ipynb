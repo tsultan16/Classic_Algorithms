{
 "cells": [
  {
   "cell_type": "markdown",
   "metadata": {},
   "source": [
    "#### Karger's Algorithm w/ Adjacency List \n",
    "\n",
    "```\n",
    "def karger(G):\n",
    "    n <- |V|\n",
    "    while n >2:\n",
    "        select a random edge (u,v)\n",
    "        perform contraction of (u,v)\n",
    "        n <- n-1\n",
    "```\n",
    "\n",
    "Given a graph $G$, contraction of edge $(u,v)$ merges vertices $u$ and $v$ into a single super-vertex $\\{u,v\\}$ and removes any self-loops.\n",
    "\n",
    "To implement the contraction operation such that it runs in $O(n)$ time, where $n$ is the number of vertices is the graph, we will maintain two data structures:\n",
    "\n",
    "1) An array containing all the vertices, each $u$ vertex internally maintains a linked list of tuples, each tuple contains a pointers to an adjacent vertex $v$ and a pointer to the corresponding edge $(u,v)$. So, this data structure is basically an `adjacency list` representration of the graph.\n",
    "\n",
    "2) A dynamic array containing all edges in the graph, called the `edge list`. Each edge $(u,v)$ internally contains pointers to the vertices $u$ and $v$ and also the array index position where it is located. Edges from this array can be accessed/modified and removed in $O(1)$ time (to remove an edge, we simply swap it with the last element of the array and decrease the array size by 1).\n",
    "\n",
    "Given a randomly selected edge $(u,v)$ removed from the edge list, we perform a contraction of this edge as follows. First, we merge vertices $u$ and $v$. We do this by taking the adjacency list of $v$ and appending it to the adjacency list of $u$. Thus $u$ represents the new merged super-vertex. We make sure to remove all self-loops by deleting all the parallel edges between $(u,v)$. We also want to find all vertices $w$ that were previously adjacent to $v$ and replace $v$ inside adjacency list of $w$ with the super-vertex $u$, and at the same time, we also update the edges $(v,w)$ to $(u,w)$ \n",
    "\n",
    "\n",
    "```\n",
    "def contraction(edge):\n",
    "    (u,v) <- edge\n",
    "    \n",
    "    for each w in u.adjacency list:\n",
    "        if w == v:\n",
    "            remove the edge (u,w) from edge list  # self-loop removal\n",
    "    \n",
    "    for each w in v.adjacency_list:\n",
    "        if w != u:\n",
    "            append w to u.adjacency_list \n",
    "            replace v in w.adjacency_list with u\n",
    "            update edge (v,w) to (u,w) inside edge list \n",
    "        else if w == u:\n",
    "            remove the edge (u,w) from edge list  # self-loop removal  \n",
    "\n",
    "\n",
    "```\n",
    "\n"
   ]
  },
  {
   "cell_type": "code",
   "execution_count": 13,
   "metadata": {},
   "outputs": [],
   "source": [
    "import networkx as nx\n",
    "import matplotlib.pyplot as plt\n",
    "\n",
    "def plot_graph(E, fig_size=5):\n",
    "    # Create a new graph\n",
    "    G = nx.Graph()\n",
    "\n",
    "    # Add edges to the graph\n",
    "    for (u, v) in E:\n",
    "        G.add_edge(u, v)\n",
    "\n",
    "    # Draw the graph\n",
    "    plt.figure(figsize=(fig_size, fig_size))\n",
    "    pos = nx.spring_layout(G)\n",
    "    nx.draw(G, pos, with_labels=True)\n",
    "    plt.show()"
   ]
  },
  {
   "cell_type": "code",
   "execution_count": 10,
   "metadata": {},
   "outputs": [],
   "source": [
    "class Vertex:\n",
    "    def __init__(self, id):\n",
    "        self.id = id\n",
    "        self.adjacency_list = []\n",
    "\n",
    "    def __str__(self):\n",
    "        return str(self.id)\n",
    "\n",
    "    def __repr__(self):\n",
    "        return str(self.id)\n",
    "\n",
    "\n",
    "class Edge:\n",
    "    def __init__(self, u, v, array_pos=None):\n",
    "        self.u = u\n",
    "        self.v = v\n",
    "        self.array_pos = array_pos\n",
    "\n",
    "    def __str__(self):\n",
    "        return str((self.u, self.v))\n",
    "\n",
    "    def __repr__(self):\n",
    "        return str((self.u, self.v))\n",
    "\n",
    "\n",
    "\n",
    "def karger(G):\n",
    "    (V, E) = G  # V is a list of vertex ids (0,1,2,...,n-1) and E is a list of edges [(u,v), ...]\n",
    "\n",
    "    # create array of vertices\n",
    "    vertices = []\n",
    "    for v in V:\n",
    "        vertices.append(Vertex(v))\n",
    "\n",
    "    # create edge list and adjacency list inside each vertex\n",
    "    edge_list = []\n",
    "    for (u,v) in E:\n",
    "        edge = Edge(u, v, array_pos=len(edge_list))\n",
    "        edge_list.append(edge)\n",
    "        vertices[u].adjacency_list.append((v,edge))\n",
    "        vertices[v].adjacency_list.append((u,edge))    \n",
    "\n",
    "\n",
    "    print(\"Adjacency lists:\")\n",
    "    for v in vertices:\n",
    "        print(f\"{v.id}: {[(x[0], x[1]) for x in v.adjacency_list]}\")\n",
    "\n",
    "    print(\"\\nEdge list: \")\n",
    "    for e in edge_list:\n",
    "        print(f\"Position: {e.array_pos} --> ({e.u}, {e.v})\")"
   ]
  },
  {
   "cell_type": "code",
   "execution_count": 14,
   "metadata": {},
   "outputs": [
    {
     "name": "stdout",
     "output_type": "stream",
     "text": [
      "Adjacency lists:\n",
      "0: [(1, (0, 1)), (2, (0, 2))]\n",
      "1: [(0, (0, 1)), (2, (1, 2))]\n",
      "2: [(0, (0, 2)), (1, (1, 2)), (3, (2, 3))]\n",
      "3: [(2, (2, 3)), (4, (3, 4)), (5, (3, 5))]\n",
      "4: [(3, (3, 4)), (5, (4, 5))]\n",
      "5: [(3, (3, 5)), (4, (4, 5))]\n",
      "\n",
      "Edge list: \n",
      "Position: 0 --> (0, 1)\n",
      "Position: 1 --> (0, 2)\n",
      "Position: 2 --> (1, 2)\n",
      "Position: 3 --> (2, 3)\n",
      "Position: 4 --> (3, 4)\n",
      "Position: 5 --> (3, 5)\n",
      "Position: 6 --> (4, 5)\n"
     ]
    },
    {
     "data": {
      "image/png": "[encoded data removed]",
      "text/plain": [
       "<Figure size 500x500 with 1 Axes>"
      ]
     },
     "metadata": {},
     "output_type": "display_data"
    }
   ],
   "source": [
    "# example graph\n",
    "V = [0,1,2,3,4,5]\n",
    "E = [(0,1), (0,2), (1,2), (2,3), (3,4), (3,5), (4,5)]\n",
    "G = (V,E)\n",
    "\n",
    "# test karger\n",
    "karger(G)\n",
    "\n",
    "# plot the graph\n",
    "plot_graph(E, fig_size=5)\n",
    "\n"
   ]
  },
  {
   "cell_type": "code",
   "execution_count": null,
   "metadata": {},
   "outputs": [],
   "source": []
  },
  {
   "cell_type": "code",
   "execution_count": null,
   "metadata": {},
   "outputs": [],
   "source": []
  },
  {
   "cell_type": "code",
   "execution_count": null,
   "metadata": {},
   "outputs": [],
   "source": []
  },
  {
   "cell_type": "code",
   "execution_count": null,
   "metadata": {},
   "outputs": [],
   "source": []
  },
  {
   "cell_type": "code",
   "execution_count": null,
   "metadata": {},
   "outputs": [],
   "source": []
  },
  {
   "cell_type": "code",
   "execution_count": null,
   "metadata": {},
   "outputs": [],
   "source": []
  }
 ],
 "metadata": {
  "kernelspec": {
   "display_name": "torch_clone",
   "language": "python",
   "name": "python3"
  },
  "language_info": {
   "codemirror_mode": {
    "name": "ipython",
    "version": 3
   },
   "file_extension": ".py",
   "mimetype": "text/x-python",
   "name": "python",
   "nbconvert_exporter": "python",
   "pygments_lexer": "ipython3",
   "version": "3.11.5"
  }
 },
 "nbformat": 4,
 "nbformat_minor": 2
}
