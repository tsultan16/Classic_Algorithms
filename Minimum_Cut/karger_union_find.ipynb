{
 "cells": [
  {
   "cell_type": "markdown",
   "metadata": {},
   "source": [
    "### Karger's Algorithm w/ Union Find\n",
    "\n",
    "\n",
    "The `Union-Find` data structure can be used to maintain a collection of disjoint sets a.k.a. `connected components`. This data structure supports the following operations:\n",
    "\n",
    "1) `MakeUnionFind(S)`: Given a set of elements `S`, this operation initializes a collection of singleton components on the elements of `S`\n",
    "2) `Find(u)`: Given an element u, this operation returns the connected component containing `u` \n",
    "3) `Union(A,B)`: Given two connected components `A` and `B`, this operation merges them into a single connected component.\n",
    "\n",
    "##### Union-Find Pointer-based Implementation:\n",
    "\n",
    "We define a `record` as an object that contains an element and a pointer. `MakeUnionFind(S)` creates a record for each element of $S$, each record represents a singleton connected component whose `label` is the `id` of the element it contains (element ids are integers in the range $[0,|S|-1]$). The pointers are initially set to null. These records are stored in a fixed size array indexed by the element `id`. A record with a null pointer corresponds to the element which labels a connected component.\n",
    "\n",
    "We also create an array `Size[0:n-1]`, where $n=|S|$, which is filled with $1$. Thus the value `Size[i]` represents the the number of elements contained in the connected component with label `i`.\n",
    "\n",
    "Given two connected components $A$ and $B$, let $u \\in A$ and $v \\in B$ be the records that label the respective components, also called the `root` records. Then to implement `Union(A,B)`, we first check `Size[u]` and `Size[v]`, then whichever component is smaller, we set the pointer of it's label record to point to the record labelling of the larger copmonent, e.g. if `Size[u] > Size[v]`, then we set `record[v].pointer = record[u]`. This merges $B$ into $A$.\n",
    "\n",
    "Given an element whose id is `u`, the `Find(u)` operation first accesses the record containing that element, then follows the pointer back to the `root` record which labels the connected component containing element `u`. To optimize this operation, we can use the `path compression` technique. During each call to `Find(u)`, path compression involves simply updating the pointers of all records on the path from `u`, upto and excluding the root, to point directly to the root. So the next time we call `Find()` on any of these elements, their pointer will take us straight to the root instead of having to traverse over a long chain of records to get there.    \n",
    "\n",
    "\n",
    "##### Implementing Karger Edge Contractions using Union-Find:\n",
    "\n",
    "In Karger's algorithm, an edge contraction results in the merger of two vertices into a single super-vertex. We can implement this using a Union-Find data structure. Initially, each record contains a vertex. We also maintain a dynamic array, called the edge list, containing all the edges of the graph. Then given to contract an edge $(u,v)$, we first check if $u$ and $v$ are in the same connected component by comparing $Find(u)$ and $Find(v)$. If $Find(u) \\neq Find(v)$, then we invoke a `Union()` on their respective connected components to merge the vertices and delete that edge from the edge list. Otherwise, if $Find(u) = Find(v)$, then we don't need to merge them, and only delete that edge from the edge list.\n",
    "\n",
    "So, after performing $n-2$ `Union()` operations, we will be left with only two super-vertices and the edges remaining in the edge list will be the edges corresponding to the cut. This approach is simpler and more efficient than the adjacency list approach that we previously implemented.\n"
   ]
  },
  {
   "cell_type": "code",
   "execution_count": null,
   "metadata": {},
   "outputs": [],
   "source": [
    "class record():\n",
    "    def __init__(self, item_id):\n",
    "        self.item_id = item_id\n",
    "        self.pointer =  None\n",
    "\n",
    "    def update_pointer(self, pointer):\n",
    "        self.pointer = pointer\n",
    "\n",
    "\n",
    "class UnionFind():\n",
    "    def __init__(self):\n",
    "        pass\n",
    "    \n",
    "    def makeUnionFind(self, S):    \n",
    "        # S contains a list of n items \n",
    "        self.S = S\n",
    "        # we assign ids 0, 1, 2, 3, ...n-1 to the items in S\n",
    "        self.item_id = {self.S[i]: i for i in range(len(S))}\n",
    "        # create records for each item\n",
    "        self.records = [record(i) for i in range(len(S))]\n",
    "        self.Size = [1 for i in range(len(S))]\n",
    "\n",
    "    def find(self, u): \n",
    "        # convert u to its corresponding id\n",
    "        u = self.item_id[u]\n",
    "        # follow the pointers back to root, store every record along the way in a list\n",
    "        path = []\n",
    "        while self.records[u].pointer:\n",
    "            path.append(u)\n",
    "            u = self.records[u].pointer.item_id\n",
    "        root_id = u\n",
    "        # path compression: reset the pointers of all the records in the path to the root\n",
    "        for item_id in path:\n",
    "            self.records[item_id].update_pointer(self.records[root_id])        \n",
    "        return self.S[root_id]\n",
    "    \n",
    "    def union(self, A, B):\n",
    "        # convert A and B to their corresponding ids\n",
    "        A = self.item_id[A]\n",
    "        B = self.item_id[B]\n",
    "        # update the pointer of the root of the smaller component to the root of the larger component\n",
    "        if self.Size[A] < self.Size[B]:\n",
    "            self.records[A].update_pointer(self.records[B])\n",
    "            self.Size[B] += self.Size[A]\n",
    "            self.Size[A] = 0\n",
    "        else:\n",
    "            self.records[B].update_pointer(self.records[A])\n",
    "            self.Size[A] += self.Size[B]\n",
    "            self.Size[B] = 0    \n",
    "\n",
    "    def __str__(self):\n",
    "        # create dictionary of component lists\n",
    "        component_dict = {i:[] for i in self.S}\n",
    "        for i in range(len(self.S)):\n",
    "            component_dict[self.find(self.S[i])].append(self.S[i]) \n",
    "        \n",
    "        return str(component_dict)                "
   ]
  },
  {
   "cell_type": "code",
   "execution_count": null,
   "metadata": {},
   "outputs": [],
   "source": []
  },
  {
   "cell_type": "code",
   "execution_count": null,
   "metadata": {},
   "outputs": [],
   "source": []
  },
  {
   "cell_type": "code",
   "execution_count": null,
   "metadata": {},
   "outputs": [],
   "source": []
  },
  {
   "cell_type": "code",
   "execution_count": null,
   "metadata": {},
   "outputs": [],
   "source": []
  },
  {
   "cell_type": "code",
   "execution_count": null,
   "metadata": {},
   "outputs": [],
   "source": []
  },
  {
   "cell_type": "code",
   "execution_count": null,
   "metadata": {},
   "outputs": [],
   "source": []
  },
  {
   "cell_type": "code",
   "execution_count": null,
   "metadata": {},
   "outputs": [],
   "source": []
  }
 ],
 "metadata": {
  "language_info": {
   "name": "python"
  }
 },
 "nbformat": 4,
 "nbformat_minor": 2
}
