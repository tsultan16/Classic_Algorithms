{
 "cells": [
  {
   "cell_type": "markdown",
   "metadata": {},
   "source": [
    "#### Min-Cut: Karger's Algorithm\n",
    "\n",
    "Implementation of Karger's algorithm (Contraction algorithm) for finding global minimum cut of a connected undirected graph."
   ]
  },
  {
   "cell_type": "code",
   "execution_count": 39,
   "metadata": {},
   "outputs": [],
   "source": [
    "import random\n",
    "random.seed(0)"
   ]
  },
  {
   "cell_type": "code",
   "execution_count": 40,
   "metadata": {},
   "outputs": [],
   "source": [
    "# contract edge (u,v) and return the adjacenecy list of the resulting graph\n",
    "def contract_edge(u,v, adjacency_list, supernode_dict, new_supernode_id):\n",
    "    assert u in adjacency_list and v in adjacency_list, \"u and v must be in the adjacency list\"\n",
    "\n",
    "    # merge u and v into a new super node\n",
    "    w = new_supernode_id\n",
    "    supernode_dict[w] = supernode_dict[u] + supernode_dict[v]\n",
    "    del supernode_dict[u]\n",
    "    del supernode_dict[v]\n",
    "\n",
    "    # update adjacent list\n",
    "    adjacency_list[w] = []\n",
    "    # connect w with edges incident on u (exclude self-loop)\n",
    "    for node in adjacency_list[u]:\n",
    "        if node != v:\n",
    "            adjacency_list[w].append(node)\n",
    "            adjacency_list[node].remove(u)\n",
    "            adjacency_list[node].append(w)\n",
    "\n",
    "    # connect w with edges incident on v (exclude self-loop)\n",
    "    for node in adjacency_list[v]:\n",
    "        if node != u:\n",
    "            adjacency_list[w].append(node)\n",
    "            adjacency_list[node].remove(v)\n",
    "            adjacency_list[node].append(w)\n",
    "\n",
    "    # remove u and v from the adjacency list\n",
    "    del adjacency_list[u]\n",
    "    del adjacency_list[v]        \n",
    "\n",
    "\n",
    "    return adjacency_list, supernode_dict, new_supernode_id+1   \n",
    "\n",
    "\n",
    "def contraction_algorithm(adjacency_list, verbose=False):\n",
    "    # make a copy of the adjacency list\n",
    "    adjacency_list_original = {node: list(neighbors) for node, neighbors in adjacency_list.items()}\n",
    "    # create supernode dictionary, each supernode is a list/set of nodes, initially each node is a supernode,\n",
    "    supernode_dict = {}\n",
    "    for node in adjacency_list:\n",
    "        supernode_dict[node] = [node]\n",
    "\n",
    "    if verbose:\n",
    "        print(f\"G = {adjacency_list}\")\n",
    "        print(f\"initial supernodes: {supernode_dict}\")\n",
    "\n",
    "    new_supernode_id = len(adjacency_list)   \n",
    "\n",
    "    # randomly select an edge (u,v) to contract\n",
    "    while len(adjacency_list) > 2:\n",
    "        # randomly select an edge (u,v) to contract\n",
    "        u = random.choice(list(adjacency_list.keys()))\n",
    "        v = random.choice(adjacency_list[u])\n",
    "        # contract the edge\n",
    "        adjacency_list, supernode_dict, new_supernode_id = contract_edge(u,v, adjacency_list, supernode_dict, new_supernode_id)\n",
    "        if verbose:\n",
    "            print(f\"\\ncontracting edge ({u},{v})\")\n",
    "            print(f\"supernodes: {supernode_dict}\")\n",
    "            print(f\"updated G: {adjacency_list}\")\n",
    "\n",
    "    # extract all edges in cut(A,B)\n",
    "    supernode_sets = list(supernode_dict.values())\n",
    "    A = supernode_sets[0]\n",
    "    B = supernode_sets[1]\n",
    "    if verbose:\n",
    "        print(f\"\\nA = {A}, B = {B}\")\n",
    "\n",
    "    mincut = []\n",
    "    for u in A:\n",
    "        for v in adjacency_list_original[u]:\n",
    "            if v in B:\n",
    "                mincut.append((u, v))\n",
    "\n",
    "    return mincut\n",
    "     "
   ]
  },
  {
   "cell_type": "code",
   "execution_count": 50,
   "metadata": {},
   "outputs": [
    {
     "name": "stdout",
     "output_type": "stream",
     "text": [
      "G = {0: [1, 2, 3], 1: [0, 2], 2: [0, 1, 3], 3: [0, 2]}\n",
      "initial supernodes: {0: [0], 1: [1], 2: [2], 3: [3]}\n",
      "\n",
      "contracting edge (0,3)\n",
      "supernodes: {1: [1], 2: [2], 4: [0, 3]}\n",
      "updated G: {1: [2, 4], 2: [1, 4, 4], 4: [1, 2, 2]}\n",
      "\n",
      "contracting edge (1,2)\n",
      "supernodes: {4: [0, 3], 5: [1, 2]}\n",
      "updated G: {4: [5, 5, 5], 5: [4, 4, 4]}\n",
      "\n",
      "A = [0, 3], B = [1, 2]\n"
     ]
    },
    {
     "data": {
      "text/plain": [
       "[(0, 1), (0, 2), (3, 2)]"
      ]
     },
     "execution_count": 50,
     "metadata": {},
     "output_type": "execute_result"
    }
   ],
   "source": [
    "adjacency_list = {0:[1,2,3], 1:[0,2], 2:[0,1,3], 3:[0,2]}\n",
    "\n",
    "mincut = contraction_algorithm(adjacency_list, verbose=True)\n",
    "mincut"
   ]
  },
  {
   "cell_type": "code",
   "execution_count": null,
   "metadata": {},
   "outputs": [],
   "source": []
  },
  {
   "cell_type": "code",
   "execution_count": null,
   "metadata": {},
   "outputs": [],
   "source": []
  },
  {
   "cell_type": "code",
   "execution_count": null,
   "metadata": {},
   "outputs": [],
   "source": []
  }
 ],
 "metadata": {
  "kernelspec": {
   "display_name": "torch_clone",
   "language": "python",
   "name": "python3"
  },
  "language_info": {
   "codemirror_mode": {
    "name": "ipython",
    "version": 3
   },
   "file_extension": ".py",
   "mimetype": "text/x-python",
   "name": "python",
   "nbconvert_exporter": "python",
   "pygments_lexer": "ipython3",
   "version": "3.11.5"
  }
 },
 "nbformat": 4,
 "nbformat_minor": 2
}
