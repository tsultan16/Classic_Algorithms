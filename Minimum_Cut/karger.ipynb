{
 "cells": [
  {
   "cell_type": "markdown",
   "metadata": {},
   "source": [
    "#### Min-Cut: Karger's Algorithm\n",
    "\n",
    "Implementation of Karger's algorithm (Contraction algorithm) for finding global minimum cut of a connected undirected graph."
   ]
  },
  {
   "cell_type": "code",
   "execution_count": 51,
   "metadata": {},
   "outputs": [],
   "source": [
    "import random, math\n",
    "random.seed(0)"
   ]
  },
  {
   "cell_type": "code",
   "execution_count": 101,
   "metadata": {},
   "outputs": [],
   "source": [
    "# contract edge (u,v) and return the adjacenecy list of the resulting graph\n",
    "def contract_edge(u,v, adjacency_list, supernode_dict, new_supernode_id):\n",
    "    assert u in adjacency_list and v in adjacency_list, \"u and v must be in the adjacency list\"\n",
    "\n",
    "    # merge u and v into a new super node\n",
    "    w = new_supernode_id\n",
    "    supernode_dict[w] = supernode_dict[u] + supernode_dict[v]\n",
    "    del supernode_dict[u]\n",
    "    del supernode_dict[v]\n",
    "\n",
    "    # update adjacent list\n",
    "    adjacency_list[w] = []\n",
    "    # connect w with edges incident on u (exclude self-loop)\n",
    "    for node in adjacency_list[u]:\n",
    "        if node != v:\n",
    "            adjacency_list[w].append(node)\n",
    "            adjacency_list[node].remove(u)\n",
    "            adjacency_list[node].append(w)\n",
    "\n",
    "    # connect w with edges incident on v (exclude self-loop)\n",
    "    for node in adjacency_list[v]:\n",
    "        if node != u:\n",
    "            adjacency_list[w].append(node)\n",
    "            adjacency_list[node].remove(v)\n",
    "            adjacency_list[node].append(w)\n",
    "\n",
    "    # remove u and v from the adjacency list\n",
    "    del adjacency_list[u]\n",
    "    del adjacency_list[v]        \n",
    "\n",
    "    return adjacency_list, supernode_dict, new_supernode_id+1   \n",
    "\n",
    "\n",
    "def contraction_algorithm(adjacency_list, verbose=False):\n",
    "    # make a copy of the adjacency list\n",
    "    G = {node: list(neighbors) for node, neighbors in adjacency_list.items()}\n",
    "    # create supernode dictionary, each supernode is a list/set of nodes, initially each node is a supernode,\n",
    "    supernode_dict = {}\n",
    "    for node in G:\n",
    "        supernode_dict[node] = [node]\n",
    "    new_supernode_id = len(G)   \n",
    "    if verbose:\n",
    "        print(f\"initial supernodes: {supernode_dict}\")\n",
    "        print(f\"initial G: {G}\")\n",
    "\n",
    "    # randomly select an edge (u,v) to contract\n",
    "    while len(G) > 2:\n",
    "        # randomly select an edge (u,v) to contract\n",
    "        u = random.choice(list(G.keys()))\n",
    "        v = random.choice(G[u])\n",
    "        # contract the edge\n",
    "        G, supernode_dict, new_supernode_id = contract_edge(u, v, G, supernode_dict, new_supernode_id)\n",
    "        if verbose:\n",
    "            print(f\"\\ncontracting edge ({u},{v})\")\n",
    "            print(f\"supernodes: {supernode_dict}\")\n",
    "            print(f\"updated G: {G}\")\n",
    "\n",
    "    # extract all edges in cut(A,B)\n",
    "    supernode_sets = list(supernode_dict.values())\n",
    "    A = supernode_sets[0]\n",
    "    B = supernode_sets[1]\n",
    "    cut = []\n",
    "    for u in A:\n",
    "        for v in adjacency_list[u]:\n",
    "            if v in B:\n",
    "                cut.append((u, v))\n",
    "\n",
    "    if verbose:\n",
    "        print(f\"super nodes: {supernode_dict}\")\n",
    "        print(f\"\\nA = {A}, B = {B}\")\n",
    "        print(f\"cut: {cut}\")\n",
    "\n",
    "    return cut\n",
    "\n",
    "def karger_min_cut(adjacency_list, verbose=False):\n",
    "    mincut = None\n",
    "    n = len(adjacency_list)\n",
    "    num_iterations = int(n*n*math.log(n))\n",
    "    print(f\"Running karger min cut algorithm with {num_iterations} iterations\")\n",
    "    for i in range(num_iterations):\n",
    "        if verbose:\n",
    "            print(f\"\\nIteration #{i+1}\")\n",
    "        cut_i = contraction_algorithm(adjacency_list, verbose=verbose)\n",
    "        if mincut is None or len(cut_i) < len(mincut):\n",
    "            mincut = cut_i\n",
    "\n",
    "    if verbose:\n",
    "        print(f\"mincut: {mincut}\")\n",
    "\n",
    "    return mincut\n"
   ]
  },
  {
   "cell_type": "code",
   "execution_count": 102,
   "metadata": {},
   "outputs": [
    {
     "name": "stdout",
     "output_type": "stream",
     "text": [
      "Running karger min cut algorithm with 22 iterations\n",
      "mincut: [(1, 0), (1, 2)]\n"
     ]
    }
   ],
   "source": [
    "# example graph\n",
    "adjacency_list = {0:[1,2,3], 1:[0,2], 2:[0,1,3], 3:[0,2]}\n",
    "\n",
    "# compute mincut\n",
    "mincut = karger_min_cut(adjacency_list, verbose=False)\n",
    "print(f\"mincut: {mincut}\")"
   ]
  },
  {
   "cell_type": "code",
   "execution_count": null,
   "metadata": {},
   "outputs": [],
   "source": []
  },
  {
   "cell_type": "code",
   "execution_count": null,
   "metadata": {},
   "outputs": [],
   "source": []
  },
  {
   "cell_type": "code",
   "execution_count": null,
   "metadata": {},
   "outputs": [],
   "source": []
  }
 ],
 "metadata": {
  "kernelspec": {
   "display_name": "torch_clone",
   "language": "python",
   "name": "python3"
  },
  "language_info": {
   "codemirror_mode": {
    "name": "ipython",
    "version": 3
   },
   "file_extension": ".py",
   "mimetype": "text/x-python",
   "name": "python",
   "nbconvert_exporter": "python",
   "pygments_lexer": "ipython3",
   "version": "3.11.5"
  }
 },
 "nbformat": 4,
 "nbformat_minor": 2
}
