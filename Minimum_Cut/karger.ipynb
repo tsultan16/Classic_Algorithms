{
 "cells": [
  {
   "cell_type": "markdown",
   "metadata": {},
   "source": [
    "#### Min-Cut: Karger's Algorithm\n",
    "\n",
    "Implementation of Karger's algorithm (Contraction algorithm) for finding global minimum cut of a connected undirected graph."
   ]
  },
  {
   "cell_type": "code",
   "execution_count": 2,
   "metadata": {},
   "outputs": [],
   "source": [
    "# contract edge (u,v) and return the adjacenecy list of the resulting graph\n",
    "def contract(u,v, adjacency_list, supernode_dict):\n",
    "    assert u in adjacency_list and v in adjacency_list, \"u and v must be in the adjacency list\"\n",
    "\n",
    "    # merge u and v into a new super node\n",
    "    w = len(adjacency_list) \n",
    "    supernode_dict[w] = supernode_dict[u] + supernode_dict[v]\n",
    "    del supernode_dict[u]\n",
    "    del supernode_dict[v]\n",
    "\n",
    "    # update adjacent list\n",
    "    adjacency_list[w] = []\n",
    "    # connect w with edges incident on u (exclude self-loop)\n",
    "    for node in adjacency_list[u]:\n",
    "        if node != v:\n",
    "            adjacency_list[w].append(node)\n",
    "            adjacency_list[node].remove(u)\n",
    "            adjacency_list[node].append(w)\n",
    "\n",
    "    # connect w with edges incident on v (exclude self-loop)\n",
    "    for node in adjacency_list[v]:\n",
    "        if node != u:\n",
    "            adjacency_list[w].append(node)\n",
    "            adjacency_list[node].remove(v)\n",
    "            adjacency_list[node].append(w)\n",
    "\n",
    "    return adjacency_list, supernode_dict   \n",
    "\n",
    "     "
   ]
  },
  {
   "cell_type": "code",
   "execution_count": 1,
   "metadata": {},
   "outputs": [],
   "source": [
    "adjacency_list = {0:[1,2,3], 1:[0,2], 2:[0,1,3], 3:[0,2]}\n"
   ]
  },
  {
   "cell_type": "code",
   "execution_count": null,
   "metadata": {},
   "outputs": [],
   "source": []
  },
  {
   "cell_type": "code",
   "execution_count": null,
   "metadata": {},
   "outputs": [],
   "source": []
  },
  {
   "cell_type": "code",
   "execution_count": null,
   "metadata": {},
   "outputs": [],
   "source": []
  }
 ],
 "metadata": {
  "kernelspec": {
   "display_name": "torch_clone",
   "language": "python",
   "name": "python3"
  },
  "language_info": {
   "codemirror_mode": {
    "name": "ipython",
    "version": 3
   },
   "file_extension": ".py",
   "mimetype": "text/x-python",
   "name": "python",
   "nbconvert_exporter": "python",
   "pygments_lexer": "ipython3",
   "version": "3.11.5"
  }
 },
 "nbformat": 4,
 "nbformat_minor": 2
}
