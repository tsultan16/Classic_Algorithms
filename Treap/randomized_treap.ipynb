{
 "cells": [
  {
   "cell_type": "markdown",
   "metadata": {},
   "source": [
    "#### Randomized Treap Implementation\n",
    "\n",
    "Implementation of a basic randomized treap. Nodes are assigned priority values uniformly at random from $[0,1]$ "
   ]
  },
  {
   "cell_type": "code",
   "execution_count": 2,
   "metadata": {},
   "outputs": [],
   "source": [
    "class Node:\n",
    "    def __init__(self, data=None, key=None, priority=None, left=None, right=None):\n",
    "        self.data = data\n",
    "        self.priority = priority\n",
    "        self.key = key\n",
    "        self.left = left\n",
    "        self.right = right\n",
    "\n",
    "\n",
    "class Treap:\n",
    "    def __init__(self, root=None): \n",
    "        self.root = root\n",
    "\n",
    "    def insert(self, data, key, priority):\n",
    "        if self.root is None:\n",
    "            self.root = Node(data, key, priority)\n",
    "        else:\n",
    "            # traverse the tree to find the correct position for the new node\n",
    "            current = self.root\n",
    "            if current is None:\n",
    "                current = Node(data, key, priority)\n",
    "            else:     \n",
    "                if key == current.key:\n",
    "                    raise ValueError(\"Key already exists!\") \n",
    "                elif key < current.key:\n",
    "                    current = current.left\n",
    "                else:\n",
    "                    current = current.right\n",
    "\n",
    "    def find(self, key):\n",
    "        current = self.root\n",
    "        while current is not None:\n",
    "            if key == current.key:\n",
    "                return current\n",
    "            elif key < current.key:\n",
    "                current = current.left\n",
    "            else:\n",
    "                current = current.right\n",
    "        return None                    "
   ]
  },
  {
   "cell_type": "code",
   "execution_count": null,
   "metadata": {},
   "outputs": [],
   "source": []
  },
  {
   "cell_type": "code",
   "execution_count": null,
   "metadata": {},
   "outputs": [],
   "source": []
  },
  {
   "cell_type": "code",
   "execution_count": null,
   "metadata": {},
   "outputs": [],
   "source": []
  },
  {
   "cell_type": "code",
   "execution_count": null,
   "metadata": {},
   "outputs": [],
   "source": []
  },
  {
   "cell_type": "code",
   "execution_count": null,
   "metadata": {},
   "outputs": [],
   "source": []
  }
 ],
 "metadata": {
  "kernelspec": {
   "display_name": "torch_clone",
   "language": "python",
   "name": "python3"
  },
  "language_info": {
   "codemirror_mode": {
    "name": "ipython",
    "version": 3
   },
   "file_extension": ".py",
   "mimetype": "text/x-python",
   "name": "python",
   "nbconvert_exporter": "python",
   "pygments_lexer": "ipython3",
   "version": "3.11.5"
  }
 },
 "nbformat": 4,
 "nbformat_minor": 2
}
