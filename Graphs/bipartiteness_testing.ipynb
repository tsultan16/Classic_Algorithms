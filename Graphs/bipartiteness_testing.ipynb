{
 "cells": [
  {
   "cell_type": "markdown",
   "metadata": {},
   "source": [
    "#### Bipartiteness Testing\n",
    "\n",
    "A `bipartite/2-color` graph $G=(V,E)$ is a graph whose vertices $V$ can be partitioned into two disjoint sets $X$ and $Y$ such that for any edge $(u,v) \\in E$, we have $u \\in X$ and $v \\in Y$, i.e. every edge has one end in $X$ and the other end in $Y$. We can also imagine coloring all vertices in $X$ blue and all vertices in $Y$ red, so biparite graphs are also called \"2-color\" graphs and every edge has a blue vertex on one end and a red vertex on the other end.  \n",
    "\n",
    "To test whether a graph is bapartite or not, we can make the following observation: any graph with an `odd cycle` (i.e. cycle containing an odd number of nodes/edges) cannot be bipartite. This is easy to prove using the 2-color idea. We know that every edge in a biparite graph must have a red vertex on one end and a red vertex on the other end, no edge can have the same color on both ends. Now consider a graph which has an odd cycle and assume that it is bipartite. Let the nodes on the cycle be $1,2,3,...,2k, 2k+1$. If node $1$ is red, then node $2$ must be blue, node $3$ must be red and so on, i.e. every odd numbered node must be red and every even numbered node must be blue. Now because we have a cycle, there must be an edge connecting node $1$ and node $2k+1$, however bothe of these nodes are red, which contradicts our assumption that the graph is bipartite. Therefore the graph cannot be bipartite.   \n",
    "\n",
    "`So as long as a graph does not contain an odd cycle, it is bipartite.`\n",
    "\n",
    "#### Bipartiteness testing algorithm using BFS\n",
    "\n",
    "We can use the layer-version BFS to test for bipartiteness. Recall that in this version of BFS, we generate a list of `layers`: $(L_0, L_1, L_2, ...)$. The first layer $L_0$ only contains the source vertex `s`. $L_1$ contains all vertices that are one hop away from `s`, i.e. nodes adjacent to `s`, $L_j$ contains all vertices that are `j` hops away from `s`, and so on. When running BFS, we introduce an additional color attribute for every vertex $v$ and when adding that verted to layer $L_{i+1}$ we set $color[v]=red$ if $i+1$ is even or set $color[v]=blue$ if $i+1$ is odd. So all vertices in a layer will have the same color, and the color will alternate from one layer to the next, so $L_0$ vertices are red, $L_1$ vertices are blue and so on. If the graph is in fact bipartite, then it must be true that there can be no edge connecting two vertices from the same layer (because no edge can have both ends be the same color), if there is such an edge, that would indicate presence of an odd cycle. So to test this, we simply have to scan every edge in the graph and check the color of both ends. If we find an edge with ends of the same color, then the graph is not bipartite, otherwise it is. \n",
    "\n",
    "For a graph with multiple connected components, it is bipartite if each indidual component is bipartite, i.e. each individual component does not contain any odd cycle.\n",
    "\n",
    "For out bipartiteness test algorithm implementation, we will assume that the graph is connected."
   ]
  },
  {
   "cell_type": "code",
   "execution_count": 9,
   "metadata": {},
   "outputs": [],
   "source": [
    "# bipartiteness test for connected graph\n",
    "def bipartite_test(adjacency_list):\n",
    "    # pick a source node for BFS\n",
    "    s = 0\n",
    "    # initialize all vertices as undiscovered except for s\n",
    "    discovered = [False] * len(adjacency_list)\n",
    "    discovered[s] = True\n",
    "    color = ['Null'] * len(adjacency_list)\n",
    "    color[s] = 'red'\n",
    "    # intiialize first layer\n",
    "    i = 0\n",
    "    layers = []\n",
    "    layers.append([s])\n",
    "    # run BFS\n",
    "    while len(layers[i])>0:\n",
    "        # initialize next layer\n",
    "        layers.append([])\n",
    "        # find vertices adjacent to the vertices in current layer and add them to the next layer if they are undiscovered\n",
    "        for u in layers[i]:\n",
    "            for v in adjacency_list[u]:\n",
    "                if not discovered[v]:\n",
    "                    discovered[v] = True\n",
    "                    # add to next layer\n",
    "                    layers[i+1].append(v)\n",
    "                    # assign color\n",
    "                    if (i+1)%2==0:\n",
    "                        color[v] = 'red'\n",
    "                    else:\n",
    "                        color[v] = 'blue'    \n",
    "        # increment layer counter\n",
    "        i += 1\n",
    "\n",
    "    #print(f\"Colors: {color}\")    \n",
    "    # for each edge, check the colors of the ends\n",
    "    for u in range(len(adjacency_list)):\n",
    "        for v in adjacency_list[u]:\n",
    "            if color[u]==color[v]:\n",
    "                return False \n",
    "\n",
    "    return True                            \n"
   ]
  },
  {
   "cell_type": "code",
   "execution_count": 10,
   "metadata": {},
   "outputs": [
    {
     "name": "stdout",
     "output_type": "stream",
     "text": [
      "True\n",
      "False\n"
     ]
    }
   ],
   "source": [
    "# example undirected graph\n",
    "adjacency_list_1 = [[4,5], [4,5,6,7], [4], [5], [0,1,2], [0,1,3], [1], [1]]   # bipartite\n",
    "adjacency_list_2 = [[4,5], [4,5,6,7], [4], [5], [0,1,2], [0,1,3], [1,7], [1]] # not bipartite\n",
    "\n",
    "print(bipartite_test(adjacency_list_1))\n",
    "print(bipartite_test(adjacency_list_2))"
   ]
  },
  {
   "cell_type": "code",
   "execution_count": null,
   "metadata": {},
   "outputs": [],
   "source": []
  },
  {
   "cell_type": "code",
   "execution_count": null,
   "metadata": {},
   "outputs": [],
   "source": []
  }
 ],
 "metadata": {
  "kernelspec": {
   "display_name": "torch_clone",
   "language": "python",
   "name": "python3"
  },
  "language_info": {
   "codemirror_mode": {
    "name": "ipython",
    "version": 3
   },
   "file_extension": ".py",
   "mimetype": "text/x-python",
   "name": "python",
   "nbconvert_exporter": "python",
   "pygments_lexer": "ipython3",
   "version": "3.11.5"
  }
 },
 "nbformat": 4,
 "nbformat_minor": 2
}
