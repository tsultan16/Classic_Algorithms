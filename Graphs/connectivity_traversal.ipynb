{
 "cells": [
  {
   "cell_type": "markdown",
   "metadata": {},
   "source": [
    "#### Graph Connectivity and Traversal\n",
    "\n",
    "Implementations of BFS, DFS and an algorithm for finding all connected components in a graph. We will use the adjacency list representation only."
   ]
  },
  {
   "cell_type": "code",
   "execution_count": 2,
   "metadata": {},
   "outputs": [],
   "source": [
    "import networkx as nx\n",
    "import matplotlib.pyplot as plt\n",
    "\n",
    "def plot_graph(adjacency_list, fig_size=5):\n",
    "    # Create a new graph\n",
    "    G = nx.Graph()\n",
    "\n",
    "    # Add edges to the graph\n",
    "    for node, neighbours in enumerate(adjacency_list):\n",
    "        for neighbour in neighbours:\n",
    "            G.add_edge(node, neighbour)\n",
    "\n",
    "    # Draw the graph\n",
    "    plt.figure(figsize=(fig_size, fig_size))\n",
    "    pos = nx.spring_layout(G)\n",
    "    nx.draw(G, pos, with_labels=True)\n",
    "    plt.show()\n"
   ]
  },
  {
   "cell_type": "markdown",
   "metadata": {},
   "source": [
    "We implement two different version of BFS:\n",
    "\n",
    "1) In the first version of BFS, we generate a list of `layers`: $(L_0, L_1, L_2, ...)$. The first layer $L_0$ only contains the source vertex `s`. $L_1$ contains all vertices that are one hop away from `s`, i.e. nodes adjacent to `s`, $L_j$ contains all vertices that are `j` hops away from `s`, etc. To perform BFS, we mark all vertices except for `s` as `undiscovered`. We then start with layer $L_0$ (which only contains `s` which is marked as discovered) and find all undiscovered vertices adjacent to all the nodes in $L_0$, mark them as discovered and insert them into $L_1$. In the next iteration, we start with layer $L_1$, find all undiscovered vertices adjacent to all the nodes in $L_1$, mark them as discovered and insert them into $L_2$. The algorithm terminates when we reach a layer which contains vertices that don't lead to any new/undisciovered vertices.\n",
    "\n",
    "2) In the second version, instead of maintinaing separate lists of layers, we maintain a single `queue` which initially only contains `s`. All vertices except for `s` are marked as undiscovered. Then at the start of each BFS iteration, we pop the vertex `u` at the front of the queue, find all undiscovered vertices `v` adjacent to `u`, insert them into the queue and mark them as discovered. The algorithm terminates when we reach an iteration and find that the queue is empty. (Note that the order in which vertices are added to the queue is the same as the order in which vertices are added to each layer in the first version.) "
   ]
  },
  {
   "cell_type": "code",
   "execution_count": 45,
   "metadata": {},
   "outputs": [],
   "source": [
    "# bredth-first search, layer version\n",
    "def BFS_layer_version(adjacency_list, s, return_tree=False):\n",
    "    assert s < len(adjacency_list), \"s is out of range\"\n",
    "    # initialize all vertices as undiscovered except for s\n",
    "    discovered = [False] * len(adjacency_list)\n",
    "    discovered[s] = True\n",
    "    # intiialize first layer\n",
    "    i = 0\n",
    "    layers = []\n",
    "    layers.append([s])\n",
    "    # initialize BFS tree (we will represent the tree as a list of edges)\n",
    "    T = []\n",
    "    # run BFS\n",
    "    while len(layers[i])>0:\n",
    "        # initialize next layer\n",
    "        layers.append([])\n",
    "        # find vertices adjacent to the vertices in current layer and add them to the next layer if they are undiscovered\n",
    "        for u in layers[i]:\n",
    "            for v in adjacency_list[u]:\n",
    "                if not discovered[v]:\n",
    "                    discovered[v] = True\n",
    "                    # add to next layer\n",
    "                    layers[i+1].append(v)\n",
    "                    # add edge to BFS tree\n",
    "                    T.append((u,v))\n",
    "        # increment layer counter\n",
    "        i += 1                \n",
    "\n",
    "    if return_tree:\n",
    "        return discovered, layers, T\n",
    "    else:\n",
    "        return discovered, layers\n",
    "\n",
    "\n",
    "# bredth-first search, queue version: instead of using separate lists for each layer, we can use a single queue into which we keep inserting \n",
    "# newly discovered vertices and from which we keep popping vertices to process (process means we find and insert all its undiscovered neighbors into the queue)\n",
    "def BFS_queue_version(adjacency_list, s, return_tree=False):\n",
    "    assert s < len(adjacency_list), \"s is out of range\"\n",
    "    # initialize all vertices as undiscovered except for s\n",
    "    discovered = [False] * len(adjacency_list)\n",
    "    discovered[s] = True\n",
    "    # intiialize BFS queue\n",
    "    Q = []\n",
    "    Q.append(s)\n",
    "    # initialize BFS tree (we will represent the tree as a list of edges)\n",
    "    T = []\n",
    "    # run BFS\n",
    "    while len(Q)>0:\n",
    "        # pop vertex from front of queue\n",
    "        u = Q.pop(0)\n",
    "        # find vertices adjacent to u and add them to the Q if they are undiscovered\n",
    "        for v in adjacency_list[u]:\n",
    "            if not discovered[v]:\n",
    "                discovered[v] = True\n",
    "                # add to Q\n",
    "                Q.append(v)\n",
    "                # add edge to BFS tree\n",
    "                T.append((u,v))\n",
    "\n",
    "    if return_tree:\n",
    "        return discovered, T\n",
    "    else:\n",
    "        return discovered\n"
   ]
  },
  {
   "cell_type": "code",
   "execution_count": 46,
   "metadata": {},
   "outputs": [
    {
     "data": {
      "image/png": "[encoded data removed]",
      "text/plain": [
       "<Figure size 800x800 with 1 Axes>"
      ]
     },
     "metadata": {},
     "output_type": "display_data"
    },
    {
     "name": "stdout",
     "output_type": "stream",
     "text": [
      "Runnin BFS Layer version:\n",
      "Nodes discovered from 0: [0, 1, 2, 3, 4, 5, 6, 7]\n",
      "Layers: [[0], [1, 2], [3, 4, 6, 7], [5], []]\n",
      "BFS tree: [(0, 1), (0, 2), (1, 3), (1, 4), (2, 6), (2, 7), (3, 5)]\n",
      "\n",
      "Running BFS Queue version:\n",
      "Nodes discovered from 0: [0, 1, 2, 3, 4, 5, 6, 7]\n",
      "BFS tree: [(0, 1), (0, 2), (1, 3), (1, 4), (2, 6), (2, 7), (3, 5)]\n"
     ]
    }
   ],
   "source": [
    "# example undirected graph\n",
    "adjacency_list = [[1,2], [0,2,3,4], [0,1,4,6,7], [1,4,5], [1,3,5], [4], [2,7], [2,6], [9], [8], [11], [10,12], [11]]\n",
    "\n",
    "plot_graph(adjacency_list, fig_size=8)\n",
    "\n",
    "# run BFS version 1\n",
    "print(f\"Runnin BFS Layer version:\")\n",
    "s = 0\n",
    "discovered, layers, T = BFS_layer_version(adjacency_list, s, return_tree=True)\n",
    "print(f\"Nodes discovered from {s}: {[i for i, d in enumerate(discovered) if d]}\") \n",
    "print(f\"Layers: {layers}\")\n",
    "print(f\"BFS tree: {T}\\n\")\n",
    "\n",
    "# run BFS version 2\n",
    "print(f\"Running BFS Queue version:\")\n",
    "s = 0\n",
    "discovered, T = BFS_queue_version(adjacency_list, s, return_tree=True)\n",
    "print(f\"Nodes discovered from {s}: {[i for i, d in enumerate(discovered) if d]}\")\n",
    "print(f\"BFS tree: {T}\")\n",
    "\n"
   ]
  },
  {
   "cell_type": "markdown",
   "metadata": {},
   "source": [
    "We now implement a version of DFS which is similar to the version 2 BFS implementation, except for a few differences. First difference is that for DFS, we use a `stack` instead of a queue, the stack is initialzed with `s`. The next difference is that we intially mark all vertices as `unexplored` (similar to how vertices were marked `undiscovered` in BFS). At the start of each DFS iteration, we pop the vertex `u` at the front of the stack, check if it is unexplored, if so then we mark it as `explored` and find each of its adjacent vertices `v` and push them one by one onto the stack (we are free to push the vertices from the adjacency list in any order, such as reverse order). Note that we mark a vertex when we pop them from the stack for further processing/exploration, as opposed to when they are \"discovered\" which was done in BFS. The algorithm terminates once we reach an iteration and find the stack is empty. "
   ]
  },
  {
   "cell_type": "code",
   "execution_count": 29,
   "metadata": {},
   "outputs": [],
   "source": [
    "# depth-first search\n",
    "def DFS(adjacency_list, s, return_tree=False):\n",
    "    assert s < len(adjacency_list), \"s is out of range\"\n",
    "    # initialize all vertices as unexplored\n",
    "    explored = [False] * len(adjacency_list)\n",
    "    # intiialize DFS stack\n",
    "    S = []\n",
    "    S.append(s)\n",
    "    # initialize parent list for DFS tree\n",
    "    parent = [None] * len(adjacency_list)\n",
    "    # initialize DFS tree (we will represent the tree as a list of edges)\n",
    "    T = []\n",
    "    # run DFS\n",
    "    while len(S)>0:\n",
    "        # pop vertex from front of stack\n",
    "        u = S.pop()\n",
    "        # expand vertex if not explored\n",
    "        if not explored[u]: \n",
    "            explored[u] = True\n",
    "            if u!=s:\n",
    "                T.append((u,parent[u]))       \n",
    "            # find vertices adjacent to u and add them to the stack (in the order they are listed in the adjacency list) \n",
    "            for v in adjacency_list[u]:\n",
    "                # insert into stack\n",
    "                S.append(v)\n",
    "                # record parent \n",
    "                parent[v] = u\n",
    "\n",
    "    if return_tree:\n",
    "        return explored, T\n",
    "    else:\n",
    "        return explored"
   ]
  },
  {
   "cell_type": "code",
   "execution_count": 30,
   "metadata": {},
   "outputs": [
    {
     "name": "stdout",
     "output_type": "stream",
     "text": [
      "Running BFS Queue version:\n",
      "Nodes explored from 0: [0, 1, 2, 3, 4, 5, 6, 7]\n",
      "DFS tree: [(2, 0), (7, 2), (6, 7), (4, 2), (5, 4), (3, 4), (1, 3)]\n"
     ]
    }
   ],
   "source": [
    "# run DFS\n",
    "print(f\"Running BFS Queue version:\")\n",
    "s = 0\n",
    "explored, T = DFS(adjacency_list, s, return_tree=True)\n",
    "print(f\"Nodes explored from {s}: {[i for i, d in enumerate(discovered) if d]}\")\n",
    "print(f\"DFS tree: {T}\")"
   ]
  },
  {
   "cell_type": "markdown",
   "metadata": {},
   "source": [
    "We now implement an algorithm for `finding all connected components` of a graph. To do this, we start by picking an arbitrary vertex and running BFS/DFS. All nodes that are discovered/explored at the end of the BFS/DFS form a connected component. Then we select a vertex which is undiscovered/unexplored and perform BFS/DFS from it to find another connected component. We iterate until no more undiscovered/unexplored vertices remain which means we've obtained all the connected components.    "
   ]
  },
  {
   "cell_type": "code",
   "execution_count": 65,
   "metadata": {},
   "outputs": [],
   "source": [
    "# slightly more barebones version of BFS for finding connected components\n",
    "def BFS(adjacency_list, s, discovered=None):\n",
    "    assert s < len(adjacency_list), \"s is out of range\"\n",
    "    if discovered is None:\n",
    "        # initialize all vertices as undiscovered except for s\n",
    "        discovered = [False] * len(adjacency_list)\n",
    "    \n",
    "    discovered[s] = True\n",
    "    # intiialize BFS queue\n",
    "    Q = [s]\n",
    "    discovered_vertices = [s]\n",
    "    # run BFS\n",
    "    while len(Q)>0:\n",
    "        # pop vertex from front of queue\n",
    "        u = Q.pop(0)\n",
    "        # find vertices adjacent to u and add them to the Q if they are undiscovered\n",
    "        for v in adjacency_list[u]:\n",
    "            if not discovered[v]:\n",
    "                discovered[v] = True\n",
    "                Q.append(v)\n",
    "                discovered_vertices.append(v)\n",
    "    return discovered, discovered_vertices\n",
    "\n",
    "def find_connected_components(adjacency_list):\n",
    "    connected_components = []\n",
    "    # select a source vertex\n",
    "    s = 0\n",
    "    # run BFS from s to find connected component\n",
    "    discovered, discovered_vertices = BFS(adjacency_list, s)\n",
    "    connected_components.append(discovered_vertices)\n",
    "    # run BFS from undiscovered vertices\n",
    "    while not all(discovered):\n",
    "        # pick an undiscovered vertex\n",
    "        s = discovered.index(False)\n",
    "        # run BFS to find connected component\n",
    "        discovered, discovered_vertices = BFS(adjacency_list, s, discovered=discovered)\n",
    "        connected_components.append(discovered_vertices)\n",
    "    return connected_components    "
   ]
  },
  {
   "cell_type": "code",
   "execution_count": 66,
   "metadata": {},
   "outputs": [
    {
     "name": "stdout",
     "output_type": "stream",
     "text": [
      "connected components: [[0, 1, 2, 3, 4, 6, 7, 5], [8, 9], [10, 11, 12]]\n"
     ]
    }
   ],
   "source": [
    "connected_components = find_connected_components(adjacency_list)\n",
    "print(f\"connected components: {connected_components}\")"
   ]
  },
  {
   "cell_type": "code",
   "execution_count": null,
   "metadata": {},
   "outputs": [],
   "source": []
  },
  {
   "cell_type": "code",
   "execution_count": null,
   "metadata": {},
   "outputs": [],
   "source": []
  }
 ],
 "metadata": {
  "kernelspec": {
   "display_name": "torch_clone",
   "language": "python",
   "name": "python3"
  },
  "language_info": {
   "codemirror_mode": {
    "name": "ipython",
    "version": 3
   },
   "file_extension": ".py",
   "mimetype": "text/x-python",
   "name": "python",
   "nbconvert_exporter": "python",
   "pygments_lexer": "ipython3",
   "version": "3.11.5"
  }
 },
 "nbformat": 4,
 "nbformat_minor": 2
}
