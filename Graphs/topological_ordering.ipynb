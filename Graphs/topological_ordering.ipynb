{
 "cells": [
  {
   "cell_type": "markdown",
   "metadata": {},
   "source": [
    "#### Tological Ordering\n",
    "\n",
    "Given a directed graph $G=(V,E)$, if it does not contain any directed cyclces, we call is a directed acyclic graph (`DAG`). Any graph which is a DAG has a `topological ordering`, which means that there exists an ordering of the nodes: $v_1, v_2, ..., v_n$ such that for any edge $(v_i, v_j)$, i.e. the edge starts at node $v_i$ and ends at $v_j$, we must have $i<j$. An example is shown in the diagram below (borrowed from the Kleinberg-Tardos textbook):  \n",
    "\n",
    "<img src=\"topological_ordering.png\" width=\"600\" height=\"230\">\n",
    "\n",
    "Note that a DAG must always contain at least one node with no incoming edges and only outgoing edges (and similarly at least one node that has no outgoing edges). Such a node can be the first node in the topological ordered sequence. A very simply algorithm exploiting this idea can be used to obtain the topological ordering of a DAG. We start by initlizing an empty topological ordering list, then find a node which has no incoming edges, and add it to our topolgical ordering list. Then we delete this node and all its incident edges from the graph. Then we recursively apply the the same process to the resulting graph, i.e. we find a node with no incoming edges, add it to the topological ordering list and delete that node and it's incident edges fro the graph. The algorithm terminates when the graph becomes empty and we've ended up with a topologial ordering.\n",
    "\n",
    "Instead of physically deleting nodes and edges from the graph, we can maintain a list containing the `active status` for every node. Initially all nodes are are set to active. We also maintain a list that contains for each node $w$, the `number of incoming edges` that $w$ has from active nodes, i.e. the `in-degree` of $w$. Finally, we also maintain a set $S$ which initially contains all the `active nodes which have no incoming edges from other active nodes`. To run the algorithm, at the start of each iteration, we pop a node from $S$ and insert it into the topological ordering list, then we delete this node by setting its active status to False and remove it's incident edges by going through each of it's adjacent nodes $w$ and dcreasing its number of active incoming edges by 1. Each time we decrease the number of active edges for a node $w$, we also check if this number becomes zero, if so then that means $w$ no longer has any incoming edges and we add it to $S$. The algorithm ends when we reach an iteration and find that $S$ is empty.   \n"
   ]
  },
  {
   "cell_type": "code",
   "execution_count": 18,
   "metadata": {},
   "outputs": [],
   "source": [
    "def topological_ordering(adjacency_list):\n",
    "    # initialize the in-degree of each vertex\n",
    "    in_degree = [0] * len(adjacency_list)\n",
    "    for u in range(len(adjacency_list)):\n",
    "        for v in adjacency_list[u]:\n",
    "            in_degree[v] = in_degree[v]+1\n",
    "    # initialize active status\n",
    "    active = [True] * len(adjacency_list)  \n",
    "    # find all vertices with in-degree 0\n",
    "    S = [u for u in range(len(adjacency_list)) if in_degree[u] == 0]\n",
    "    # topological ordering\n",
    "    topological_ordering = []\n",
    "    # run the algorithm\n",
    "    while len(S)>0:\n",
    "        u = S.pop()\n",
    "        topological_ordering.append(u)\n",
    "        # delete the node\n",
    "        active[u] = False\n",
    "        # delete it's incident edges (which are all outgoing)\n",
    "        for v in adjacency_list[u]:\n",
    "            in_degree[v] = in_degree[v]-1\n",
    "            # check if the in-degree of v is 0\n",
    "            if in_degree[v] == 0:\n",
    "                S.append(v)\n",
    "\n",
    "    return topological_ordering            "
   ]
  },
  {
   "cell_type": "code",
   "execution_count": 19,
   "metadata": {},
   "outputs": [
    {
     "name": "stdout",
     "output_type": "stream",
     "text": [
      "[1, 2, 0, 3, 4, 5, 6]\n"
     ]
    }
   ],
   "source": [
    "example_dag_adjacency_list = [[3,4,6], [2,4,5], [3,4], [4], [5,6], [6], []]\n",
    "print(topological_ordering(example_dag_adjacency_list))"
   ]
  },
  {
   "cell_type": "code",
   "execution_count": null,
   "metadata": {},
   "outputs": [],
   "source": []
  }
 ],
 "metadata": {
  "kernelspec": {
   "display_name": "torch_clone",
   "language": "python",
   "name": "python3"
  },
  "language_info": {
   "codemirror_mode": {
    "name": "ipython",
    "version": 3
   },
   "file_extension": ".py",
   "mimetype": "text/x-python",
   "name": "python",
   "nbconvert_exporter": "python",
   "pygments_lexer": "ipython3",
   "version": "3.11.5"
  }
 },
 "nbformat": 4,
 "nbformat_minor": 2
}
