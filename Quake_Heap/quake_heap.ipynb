{
 "cells": [
  {
   "cell_type": "markdown",
   "metadata": {},
   "source": [
    "#### Quake Heap Implementation\n",
    "\n",
    "Given a set of items $P$ in which each item has a priority, the `quake-heap` on $P$ is defined as a `tournament forest` $\\tau = \\set{T_1, T_2, ...,T_L}$ where $T_i$ is a  (binary) tournament tree on $P_i \\subset P$ such that $P_i \\cap P_j = \\empty$ if $i \\neq j$.\n",
    "\n",
    "The leaf-nodes in the forest are the items from $P$. All leaf nodes are maintained at the same height, which is the lowest level in the forest. We define $n_i$ as the number of nodes which have height $i$. We also maintain the following `invariant`: $n_{i+1} \\leq \\alpha n_i$ for $i=1,2,..,h_{max}-1$, where $\\alpha \\in (\\frac{1}{2},1)$ is a fixed constant. \n",
    "\n",
    "The quake-heap data structure supports the following operations:\n",
    "\n",
    "* `Link(T_1,T_2)` - creates a new node $u$ with $priority(u) = min(priority(root(T_1)), priority(root(T_2)))$, then attaches $T_1$ and $T_2$ as subtrees of u to form a new tree $T'$\n",
    "\n",
    "* `cut(u)` -  given a node `u` whose priority is larger than that of it's parent $v$, this operation detaches u from it's parent to create a new tree rooted at $u$. \n",
    "\n",
    "* `Insert(u)` - inserts a new item $u$ into the quake-heap, this creates a new tree containing only $u$\n",
    "\n",
    "* `Decrease-Min(x,k)` - first cut(u) is invoked, where u is the highest node containing the priority of item $x$, then the priority of item $x$ is changed to $k$. \n",
    "\n",
    "* `Delete-Min()`- deletes the item $x$ with smallest priority from the quake-heap, this is done in three steps:\n",
    "\n",
    "    (i) remove all nodes in the $u$-$x$ path, where u is the highest node containing the priority of item $x$, we do this by performing a sequence of cut operation on every node in the path starting with the child of $u$ and after each cut, we delete the parent of the corresponding node on which we performed the cut. Finally when we reach the leaf and delete it's parent, we also delete the leaf.\n",
    "    \n",
    "    (ii) Link all pairs of trees which are at the same height\n",
    "\n",
    "    (iii) Maintain number of nodes at height invariant property by finding the smallest height $h$ at which a violation occurs, i.e. the smallest $h$ for which $n_{h+1} > \\alpha n_h$, and delete all nodes above this height. \n",
    "\n",
    "To facilitate the quake-heap operations, each node in the forest will have some auxiliary pointers:\n",
    "\n",
    "* Each leaf node has a pointer to the highest internal node containing it's priority. \n",
    "\n",
    "* Each internal node has a pointer to the leaf node whose priority it contains.\n",
    "\n",
    "To facilitate linking of trees in particular, we will also maintain a dictionary $A$ which maps height $i$ to a list of trees which have that height. We also maintain a list $L$ which contains all the heights for which at least two trees have that height, which allows us to quickly find all the heights at which we have pairs of trees that may be linked and retreive those trees. "
   ]
  },
  {
   "cell_type": "code",
   "execution_count": 27,
   "metadata": {},
   "outputs": [],
   "source": [
    "from collections import defaultdict\n",
    "from graphviz import Digraph, Source\n",
    "\n",
    "def add_nodes_edges(graph, node, counter=0):\n",
    "    if node is not None:\n",
    "        root = str(counter)\n",
    "        graph.node(root, str(node.priority), fontsize='10')\n",
    "        if node.left is not None:\n",
    "            left = str(counter + 1)\n",
    "            graph.edge(root, left)\n",
    "            counter = add_nodes_edges(graph, node.left, counter + 1)\n",
    "        if node.right is not None:\n",
    "            right = str(counter + 1)\n",
    "            graph.edge(root, right)\n",
    "            counter = add_nodes_edges(graph, node.right, counter + 1)\n",
    "    return counter\n",
    "\n",
    "def visualize_tree(root):\n",
    "    graph = Digraph()\n",
    "    add_nodes_edges(graph, root)\n",
    "    return Source(graph.source)  \n",
    "\n",
    "\n",
    "def visualize_forest(forest):\n",
    "    for i, root in enumerate(forest):\n",
    "        print(f'Tree {i+1}:')\n",
    "        src = visualize_tree(root)\n",
    "        display(src)"
   ]
  },
  {
   "cell_type": "code",
   "execution_count": 28,
   "metadata": {},
   "outputs": [],
   "source": [
    "# linked list node\n",
    "class LLNode:\n",
    "    def __init__(self, data=None, prev=None, next=None):\n",
    "        self.data = data\n",
    "        self.prev = prev\n",
    "        self.next = next\n",
    "\n",
    "# doubly linked list data structure\n",
    "class DoubleLinkedList():\n",
    "    def __init__(self):\n",
    "        self.head = None\n",
    "        self.tail = None\n",
    "        self.size = 0\n",
    "\n",
    "    def delete(self, node):\n",
    "        if node == self.head:\n",
    "            self.head = node.next\n",
    "        if node == self.tail:\n",
    "            self.tail = node.prev\n",
    "        if node.prev is not None:\n",
    "            node.prev.next = node.next\n",
    "        if node.next is not None:\n",
    "            node.next.prev = node.prev\n",
    "        self.size -= 1    \n",
    "\n",
    "    def insert(self, node):\n",
    "        if self.head is None:\n",
    "            self.head = node\n",
    "            self.tail = node\n",
    "        else:\n",
    "            node.next = self.head\n",
    "            self.head.prev = node\n",
    "            self.head = node\n",
    "        self.size += 1\n",
    "\n",
    "# tournament tree node\n",
    "class TreeNode:\n",
    "    def __init__(self, priority=None, data=None, left=None, right=None, aux_leaf=None, aux_highest=None):\n",
    "        self.priority = priority\n",
    "        self.data = data\n",
    "        self.left = left\n",
    "        self.right = right\n",
    "        self.aux_leaf = aux_leaf        # auxiliary pointer to leaf node \n",
    "        self.aux_highest = aux_highest  # auxiliary pointer to highest internal node\n",
    "\n",
    "\n",
    "# quake heap data structure\n",
    "class QuakeHeap():\n",
    "    def __init__(self):\n",
    "        self.forest = []  # list of root nodes of all tournament trees in the forest\n",
    "        self.size = 0 # number of item in forest      \n",
    "        self.A = defaultdict(dict)   # dictionary mapping height to a dictionary containing: [list of trees of that height, pointer to that height in the doubly-linked list of heights with linkable trees if there are at least two trees of that height in the forest]\n",
    "        self.L = DoubleLinkedList()    # doubly-linked list of heights for which at least two trees have that height (i.e. heights with linkable trees)\n",
    "\n",
    "    def insert(self, priority, data=None):\n",
    "        \"\"\"\n",
    "        Insert a new node with given priority and data into the heap\n",
    "        \"\"\"\n",
    "        new_node = TreeNode(priority=priority, data=data)\n",
    "        self.forest.append(new_node)\n",
    "        self.size += 1\n",
    "        if 1 in self.A:\n",
    "            self.A[1]['trees'].append(new_node)\n",
    "            if len(self.A[1]['trees']) == 2:\n",
    "                # insert this height into the doubly-linked list of heights with linkable trees, only need to insert once when the number of trees becomes 2\n",
    "                height_node = LLNode(data=1)\n",
    "                self.L.insert(height_node)  \n",
    "                self.A[1]['pointer'] = height_node\n",
    "        else:\n",
    "            self.A[1] = {'trees':[new_node], 'pointer':None}\n",
    "\n",
    "\n",
    "    # find and link all pairs of trees of the same height\n",
    "    def find_and_link(self):\n",
    "        # traverse list L from the beginning to the end\n",
    "        current_height = self.L.head\n",
    "        while current_height is not None:\n",
    "            height = current_height.data\n",
    "            # get the list of trees of this height\n",
    "            trees = self.A[height]['trees']\n",
    "            # link all pairs of trees of this height\n",
    "            while len(trees) >= 2:\n",
    "                print(f\"Merging trees of height: {height}\")\n",
    "                T1 = trees.pop()\n",
    "                T2 = trees.pop()\n",
    "                T = self.link(T1, T2)\n",
    "                # add the new tree to the forest\n",
    "                self.forest.append(T)\n",
    "                self.size += 1\n",
    "                # add new tree to height dictionary\n",
    "                if (height+1) in self.A:\n",
    "                    self.A[height+1]['trees'].append(T)\n",
    "                    if len(self.A[height+1]['trees']) == 2:\n",
    "                        # insert this height into the doubly-linked list of heights with linkable trees, only need to insert once when the number of trees becomes 2\n",
    "                        height_node = LLNode(data=height+1)\n",
    "                        self.L.insert(height_node)  \n",
    "                        self.A[height+1]['pointer'] = height_node\n",
    "                else:\n",
    "                    self.A[height+1] = {'trees':[T], 'pointer':None}\n",
    "\n",
    "            # remove the height from the doubly-linked list of heights with linkable trees\n",
    "            self.L.delete(current_height)\n",
    "            # move to the next avaliable height in the doubly-linked list\n",
    "            current_height = self.L.head\n",
    "\n",
    "\n",
    "    \"\"\"\n",
    "        T1 : root node of first tree\n",
    "        T2 : root node of second tree \n",
    "    \"\"\"\n",
    "    def link(self, T1, T2):\n",
    "        # first remove T1 and T2 from the forest\n",
    "        self.forest.remove(T1)\n",
    "        self.forest.remove(T2)\n",
    "        # create a new root node and attach T1 and T2 as it's subtrees\n",
    "        new_root = TreeNode()\n",
    "        new_root.left = T1\n",
    "        new_root.right = T2\n",
    "        # find which subtree has the lower priority and get it's auxiliary pointer to it's leaf node\n",
    "        aux_leaf = T1.aux_leaf if T1.aux_leaf.priority < T2.aux_leaf.priority else T2.aux_leaf \n",
    "        # create pointers to and from the new root node and the auxiliary leaf node\n",
    "        new_root.aux_leaf = aux_leaf\n",
    "        aux_leaf.aux_highest = new_root\n",
    "\n",
    "        return new_root\n"
   ]
  },
  {
   "cell_type": "code",
   "execution_count": 29,
   "metadata": {},
   "outputs": [
    {
     "name": "stdout",
     "output_type": "stream",
     "text": [
      "Inserted item with priority 1\n",
      "Inserted item with priority 2\n",
      "Inserted item with priority 3\n",
      "Inserted item with priority 4\n",
      "Inserted item with priority 5\n",
      "Tree 1:\n"
     ]
    },
    {
     "data": {
      "image/svg+xml": [
       "<?xml version=\"1.0\" encoding=\"UTF-8\" standalone=\"no\"?>\n",
       "<!DOCTYPE svg PUBLIC \"-//W3C//DTD SVG 1.1//EN\"\n",
       " \"http://www.w3.org/Graphics/SVG/1.1/DTD/svg11.dtd\">\n",
       "<!-- Generated by graphviz version 2.43.0 (0)\n",
       " -->\n",
       "<!-- Title: %3 Pages: 1 -->\n",
       "<svg width=\"62pt\" height=\"44pt\"\n",
       " viewBox=\"0.00 0.00 62.00 44.00\" xmlns=\"http://www.w3.org/2000/svg\" xmlns:xlink=\"http://www.w3.org/1999/xlink\">\n",
       "<g id=\"graph0\" class=\"graph\" transform=\"scale(1 1) rotate(0) translate(4 40)\">\n",
       "<title>%3</title>\n",
       "<polygon fill=\"white\" stroke=\"transparent\" points=\"-4,4 -4,-40 58,-40 58,4 -4,4\"/>\n",
       "<!-- 0 -->\n",
       "<g id=\"node1\" class=\"node\">\n",
       "<title>0</title>\n",
       "<ellipse fill=\"none\" stroke=\"black\" cx=\"27\" cy=\"-18\" rx=\"27\" ry=\"18\"/>\n",
       "<text text-anchor=\"middle\" x=\"27\" y=\"-15.5\" font-family=\"Times,serif\" font-size=\"10.00\">1</text>\n",
       "</g>\n",
       "</g>\n",
       "</svg>\n"
      ],
      "text/plain": [
       "<graphviz.sources.Source at 0x7f1cb4567d90>"
      ]
     },
     "metadata": {},
     "output_type": "display_data"
    },
    {
     "name": "stdout",
     "output_type": "stream",
     "text": [
      "Tree 2:\n"
     ]
    },
    {
     "data": {
      "image/svg+xml": [
       "<?xml version=\"1.0\" encoding=\"UTF-8\" standalone=\"no\"?>\n",
       "<!DOCTYPE svg PUBLIC \"-//W3C//DTD SVG 1.1//EN\"\n",
       " \"http://www.w3.org/Graphics/SVG/1.1/DTD/svg11.dtd\">\n",
       "<!-- Generated by graphviz version 2.43.0 (0)\n",
       " -->\n",
       "<!-- Title: %3 Pages: 1 -->\n",
       "<svg width=\"62pt\" height=\"44pt\"\n",
       " viewBox=\"0.00 0.00 62.00 44.00\" xmlns=\"http://www.w3.org/2000/svg\" xmlns:xlink=\"http://www.w3.org/1999/xlink\">\n",
       "<g id=\"graph0\" class=\"graph\" transform=\"scale(1 1) rotate(0) translate(4 40)\">\n",
       "<title>%3</title>\n",
       "<polygon fill=\"white\" stroke=\"transparent\" points=\"-4,4 -4,-40 58,-40 58,4 -4,4\"/>\n",
       "<!-- 0 -->\n",
       "<g id=\"node1\" class=\"node\">\n",
       "<title>0</title>\n",
       "<ellipse fill=\"none\" stroke=\"black\" cx=\"27\" cy=\"-18\" rx=\"27\" ry=\"18\"/>\n",
       "<text text-anchor=\"middle\" x=\"27\" y=\"-15.5\" font-family=\"Times,serif\" font-size=\"10.00\">2</text>\n",
       "</g>\n",
       "</g>\n",
       "</svg>\n"
      ],
      "text/plain": [
       "<graphviz.sources.Source at 0x7f1cb45d61d0>"
      ]
     },
     "metadata": {},
     "output_type": "display_data"
    },
    {
     "name": "stdout",
     "output_type": "stream",
     "text": [
      "Tree 3:\n"
     ]
    },
    {
     "data": {
      "image/svg+xml": [
       "<?xml version=\"1.0\" encoding=\"UTF-8\" standalone=\"no\"?>\n",
       "<!DOCTYPE svg PUBLIC \"-//W3C//DTD SVG 1.1//EN\"\n",
       " \"http://www.w3.org/Graphics/SVG/1.1/DTD/svg11.dtd\">\n",
       "<!-- Generated by graphviz version 2.43.0 (0)\n",
       " -->\n",
       "<!-- Title: %3 Pages: 1 -->\n",
       "<svg width=\"62pt\" height=\"44pt\"\n",
       " viewBox=\"0.00 0.00 62.00 44.00\" xmlns=\"http://www.w3.org/2000/svg\" xmlns:xlink=\"http://www.w3.org/1999/xlink\">\n",
       "<g id=\"graph0\" class=\"graph\" transform=\"scale(1 1) rotate(0) translate(4 40)\">\n",
       "<title>%3</title>\n",
       "<polygon fill=\"white\" stroke=\"transparent\" points=\"-4,4 -4,-40 58,-40 58,4 -4,4\"/>\n",
       "<!-- 0 -->\n",
       "<g id=\"node1\" class=\"node\">\n",
       "<title>0</title>\n",
       "<ellipse fill=\"none\" stroke=\"black\" cx=\"27\" cy=\"-18\" rx=\"27\" ry=\"18\"/>\n",
       "<text text-anchor=\"middle\" x=\"27\" y=\"-15.5\" font-family=\"Times,serif\" font-size=\"10.00\">3</text>\n",
       "</g>\n",
       "</g>\n",
       "</svg>\n"
      ],
      "text/plain": [
       "<graphviz.sources.Source at 0x7f1ca57ed5d0>"
      ]
     },
     "metadata": {},
     "output_type": "display_data"
    },
    {
     "name": "stdout",
     "output_type": "stream",
     "text": [
      "Tree 4:\n"
     ]
    },
    {
     "data": {
      "image/svg+xml": [
       "<?xml version=\"1.0\" encoding=\"UTF-8\" standalone=\"no\"?>\n",
       "<!DOCTYPE svg PUBLIC \"-//W3C//DTD SVG 1.1//EN\"\n",
       " \"http://www.w3.org/Graphics/SVG/1.1/DTD/svg11.dtd\">\n",
       "<!-- Generated by graphviz version 2.43.0 (0)\n",
       " -->\n",
       "<!-- Title: %3 Pages: 1 -->\n",
       "<svg width=\"62pt\" height=\"44pt\"\n",
       " viewBox=\"0.00 0.00 62.00 44.00\" xmlns=\"http://www.w3.org/2000/svg\" xmlns:xlink=\"http://www.w3.org/1999/xlink\">\n",
       "<g id=\"graph0\" class=\"graph\" transform=\"scale(1 1) rotate(0) translate(4 40)\">\n",
       "<title>%3</title>\n",
       "<polygon fill=\"white\" stroke=\"transparent\" points=\"-4,4 -4,-40 58,-40 58,4 -4,4\"/>\n",
       "<!-- 0 -->\n",
       "<g id=\"node1\" class=\"node\">\n",
       "<title>0</title>\n",
       "<ellipse fill=\"none\" stroke=\"black\" cx=\"27\" cy=\"-18\" rx=\"27\" ry=\"18\"/>\n",
       "<text text-anchor=\"middle\" x=\"27\" y=\"-15.5\" font-family=\"Times,serif\" font-size=\"10.00\">4</text>\n",
       "</g>\n",
       "</g>\n",
       "</svg>\n"
      ],
      "text/plain": [
       "<graphviz.sources.Source at 0x7f1cb4117c90>"
      ]
     },
     "metadata": {},
     "output_type": "display_data"
    },
    {
     "name": "stdout",
     "output_type": "stream",
     "text": [
      "Tree 5:\n"
     ]
    },
    {
     "data": {
      "image/svg+xml": [
       "<?xml version=\"1.0\" encoding=\"UTF-8\" standalone=\"no\"?>\n",
       "<!DOCTYPE svg PUBLIC \"-//W3C//DTD SVG 1.1//EN\"\n",
       " \"http://www.w3.org/Graphics/SVG/1.1/DTD/svg11.dtd\">\n",
       "<!-- Generated by graphviz version 2.43.0 (0)\n",
       " -->\n",
       "<!-- Title: %3 Pages: 1 -->\n",
       "<svg width=\"62pt\" height=\"44pt\"\n",
       " viewBox=\"0.00 0.00 62.00 44.00\" xmlns=\"http://www.w3.org/2000/svg\" xmlns:xlink=\"http://www.w3.org/1999/xlink\">\n",
       "<g id=\"graph0\" class=\"graph\" transform=\"scale(1 1) rotate(0) translate(4 40)\">\n",
       "<title>%3</title>\n",
       "<polygon fill=\"white\" stroke=\"transparent\" points=\"-4,4 -4,-40 58,-40 58,4 -4,4\"/>\n",
       "<!-- 0 -->\n",
       "<g id=\"node1\" class=\"node\">\n",
       "<title>0</title>\n",
       "<ellipse fill=\"none\" stroke=\"black\" cx=\"27\" cy=\"-18\" rx=\"27\" ry=\"18\"/>\n",
       "<text text-anchor=\"middle\" x=\"27\" y=\"-15.5\" font-family=\"Times,serif\" font-size=\"10.00\">5</text>\n",
       "</g>\n",
       "</g>\n",
       "</svg>\n"
      ],
      "text/plain": [
       "<graphviz.sources.Source at 0x7f1cb40af690>"
      ]
     },
     "metadata": {},
     "output_type": "display_data"
    }
   ],
   "source": [
    "# test the QuakeHeap class\n",
    "QH = QuakeHeap()\n",
    "P = [1, 2, 3, 4, 5] # example item priorities\n",
    "# isert all items into the heap\n",
    "for item in P:\n",
    "    QH.insert(item)\n",
    "    print(f\"Inserted item with priority {item}\")\n",
    "\n",
    "# visualize the forest\n",
    "visualize_forest(QH.forest)    "
   ]
  },
  {
   "cell_type": "code",
   "execution_count": null,
   "metadata": {},
   "outputs": [],
   "source": []
  },
  {
   "cell_type": "code",
   "execution_count": null,
   "metadata": {},
   "outputs": [],
   "source": []
  },
  {
   "cell_type": "code",
   "execution_count": null,
   "metadata": {},
   "outputs": [],
   "source": []
  },
  {
   "cell_type": "code",
   "execution_count": null,
   "metadata": {},
   "outputs": [],
   "source": []
  },
  {
   "cell_type": "code",
   "execution_count": null,
   "metadata": {},
   "outputs": [],
   "source": []
  },
  {
   "cell_type": "code",
   "execution_count": null,
   "metadata": {},
   "outputs": [],
   "source": []
  }
 ],
 "metadata": {
  "kernelspec": {
   "display_name": "torch_clone",
   "language": "python",
   "name": "python3"
  },
  "language_info": {
   "codemirror_mode": {
    "name": "ipython",
    "version": 3
   },
   "file_extension": ".py",
   "mimetype": "text/x-python",
   "name": "python",
   "nbconvert_exporter": "python",
   "pygments_lexer": "ipython3",
   "version": "3.11.5"
  }
 },
 "nbformat": 4,
 "nbformat_minor": 2
}
