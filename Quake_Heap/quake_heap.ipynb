{
 "cells": [
  {
   "cell_type": "markdown",
   "metadata": {},
   "source": [
    "#### Quake Heap Implementation\n",
    "\n",
    "Given a set of items $P$ in which each item has a priority, the `quake-heap` on $P$ is defined as a `tournament forest` $\\tau = \\set{T_1, T_2, ...,T_L}$ where $T_i$ is a  (binary) tournament tree on $P_i \\subset P$ such that $P_i \\cap P_j = \\empty$ if $i \\neq j$.\n",
    "\n",
    "The leaf-nodes in the forest are the items from $P$. All leaf nodes are maintained at the same height, which is the lowest level in the forest. We define $n_i$ as the number of nodes which have height $i$. We also maintain the following `invariant`: $n_{i+1} \\leq \\alpha n_i$ for $i=1,2,..,h_{max}-1$, where $\\alpha \\in (\\frac{1}{2},1)$ is a fixed constant. \n",
    "\n",
    "The quake-heap data structure supports the following operations:\n",
    "\n",
    "* `Link(T_1,T_2)` - creates a new node $u$ with $priority(u) = min(priority(root(T_1)), priority(root(T_2)))$, then attaches $T_1$ and $T_2$ as subtrees of u to form a new tree $T'$\n",
    "\n",
    "* `cut(u)` -  given a node `u` whose priority is larger than that of it's parent $v$, this operation detaches u from it's parent to create a new tree rooted at $u$. \n",
    "\n",
    "* `Insert(u)` - inserts a new item $u$ into the quake-heap, this creates a new tree containing only $u$\n",
    "\n",
    "* `Decrease-Min(x,k)` - first cut(u) is invoked, where u is the highest node containing the priority of item $x$, then the priority of item $x$ is changed to $k$. \n",
    "\n",
    "* `Delete-Min()`- deletes the item $x$ with smallest priority from the quake-heap, this is done in three steps:\n",
    "\n",
    "    (i) remove all nodes in the $u$-$x$ path, where u is the highest node containing the priority of item $x$, we do this by performing a sequence of cut operation on every node in the path starting with the child of $u$ and after each cut, we delete the parent of the corresponding node on which we performed the cut. Finally when we reach the leaf and delete it's parent, we also delete the leaf.\n",
    "    \n",
    "    (ii) Link all pairs of trees which are at the same height\n",
    "\n",
    "    (iii) Maintain number of nodes at height invariant property by finding the smallest height $h$ at which a violation occurs, i.e. the smallest $h$ for which $n_{h+1} > \\alpha n_h$, and delete all nodes above this height. \n",
    "\n",
    "To facilitate the quake-heap operations, each node in the forest will have some auxiliary pointers:\n",
    "\n",
    "* Each leaf node has a pointer to the highest internal node containing it's priority. \n",
    "\n",
    "* Each internal node has a pointer to the leaf node whose priority it contains."
   ]
  },
  {
   "cell_type": "code",
   "execution_count": 1,
   "metadata": {},
   "outputs": [],
   "source": [
    "from graphviz import Digraph, Source"
   ]
  },
  {
   "cell_type": "code",
   "execution_count": null,
   "metadata": {},
   "outputs": [],
   "source": [
    "# tree node class\n",
    "class Node:\n",
    "    def __init__(self, data, key, priority, parent=None):\n",
    "        self.data = data\n",
    "        self.priority = priority\n",
    "        self.parent = parent\n",
    "        self.left = None\n",
    "        self.right = None"
   ]
  },
  {
   "cell_type": "code",
   "execution_count": null,
   "metadata": {},
   "outputs": [],
   "source": []
  },
  {
   "cell_type": "code",
   "execution_count": null,
   "metadata": {},
   "outputs": [],
   "source": []
  },
  {
   "cell_type": "code",
   "execution_count": null,
   "metadata": {},
   "outputs": [],
   "source": []
  },
  {
   "cell_type": "code",
   "execution_count": null,
   "metadata": {},
   "outputs": [],
   "source": []
  },
  {
   "cell_type": "code",
   "execution_count": null,
   "metadata": {},
   "outputs": [],
   "source": []
  },
  {
   "cell_type": "code",
   "execution_count": null,
   "metadata": {},
   "outputs": [],
   "source": []
  }
 ],
 "metadata": {
  "kernelspec": {
   "display_name": "torch_clone",
   "language": "python",
   "name": "python3"
  },
  "language_info": {
   "codemirror_mode": {
    "name": "ipython",
    "version": 3
   },
   "file_extension": ".py",
   "mimetype": "text/x-python",
   "name": "python",
   "nbconvert_exporter": "python",
   "pygments_lexer": "ipython3",
   "version": "3.11.5"
  }
 },
 "nbformat": 4,
 "nbformat_minor": 2
}
