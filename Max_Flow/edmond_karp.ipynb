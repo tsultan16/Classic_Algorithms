{
 "cells": [
  {
   "cell_type": "markdown",
   "metadata": {},
   "source": [
    "#### Edmond-Karp Algorithm for Max-Flow "
   ]
  },
  {
   "cell_type": "code",
   "execution_count": 1,
   "metadata": {},
   "outputs": [],
   "source": [
    "import numpy as np\n"
   ]
  },
  {
   "cell_type": "markdown",
   "metadata": {},
   "source": [
    "#### Edmond-Karp Algorithm implementation"
   ]
  },
  {
   "cell_type": "code",
   "execution_count": 18,
   "metadata": {},
   "outputs": [],
   "source": [
    "def max_flow(adjacency_matrix, verbose=False):\n",
    "    # initialize zero flow\n",
    "    flow = np.zeros_like(adjacency_matrix)\n",
    "    # initialize label tuples\n",
    "    labels = [0]*len(adjacency_matrix)\n",
    "    # intialize empty BFS queue\n",
    "    Q = []\n",
    "    # add source to the queue\n",
    "    Q.append(0)\n",
    "    labels[0] = (float('inf'), None, None)\n",
    "    # perform iterations of label-enhanced BFS until the queue is empty\n",
    "    while len(Q) > 0:\n",
    "        # pop the first element from the queue\n",
    "        i = Q.pop(0)\n",
    "        if verbose: print(f\"Front vertex in queue: {i}, current label: {labels[i]}\")\n",
    "        l_i, _, _ = labels[i]\n",
    "        # visit all forward edges from the current node\n",
    "        for j in range(adjacency_matrix.shape[1]):\n",
    "            if adjacency_matrix[i,j] > 0:\n",
    "                # check if j is unlabeled\n",
    "                if labels[j] == 0:\n",
    "                    # check if edge (i,j) has unused capacity\n",
    "                    r_ij = adjacency_matrix[i,j] - flow[i,j]\n",
    "                    if r_ij > 0:\n",
    "                        # add j to the queue\n",
    "                        Q.append(j)\n",
    "                        # label j\n",
    "                        l_j = min(l_i, r_ij)\n",
    "                        labels[j] = (l_j, i, '+')\n",
    "                        if verbose: print(f\"Labeled vertex: {j}, label: {labels[j]}\")\n",
    "\n",
    "        # visit all backward edges\n",
    "        for j in range(adjacency_matrix.shape[0]):\n",
    "            if adjacency_matrix[j,i] > 0:\n",
    "                # check if j is unlabeled\n",
    "                if labels[j] == 0:\n",
    "                    # check if edge (j,i) has unused capacity\n",
    "                    x_ji = flow[j,i]\n",
    "                    if x_ji > 0:\n",
    "                        # add j to the queue\n",
    "                        Q.append(j)     \n",
    "                        # label j\n",
    "                        l_j = min(l_i, x_ji)\n",
    "                        labels[j] = (l_j, i, '-')\n",
    "                        if verbose: print(f\"Labeled vertex: {j}, label: {labels[j]}\")\n",
    "\n",
    "        # if sink is labeled, augment the flow, reset the labels and put the source back to the queue\n",
    "        if labels[-1] != 0:\n",
    "            l_n, i, direction = labels[-1]\n",
    "            j = len(labels)-1\n",
    "            while j != 0:\n",
    "                l_j, i, direction = labels[j]\n",
    "                if direction == '+':\n",
    "                    flow[i,j] += l_n\n",
    "                else:\n",
    "                    flow[j,i] -= l_n    \n",
    "                j = i     \n",
    "            # erase the labels\n",
    "            labels = [0]*len(adjacency_matrix)\n",
    "            # reset the queue and add source vertex\n",
    "            Q = [0] \n",
    "            labels[0] = (float('inf'), None, None)           \n",
    "            if verbose: print(\"Flow augmented!\")                        \n",
    "\n",
    "    max_flow_value = np.sum(flow[0,:])\n",
    "    return max_flow_value, flow\n"
   ]
  },
  {
   "cell_type": "markdown",
   "metadata": {},
   "source": [
    "Create an adjacency matrix for an example network.\n",
    "\n",
    "<img src=\"example_1.png\" width=\"450\" height=\"250\">\n",
    "\n"
   ]
  },
  {
   "cell_type": "code",
   "execution_count": 16,
   "metadata": {},
   "outputs": [],
   "source": [
    "network_adj = np.array([[0,2,0,3,0,0],\n",
    "                        [0,0,5,0,3,0],\n",
    "                        [0,0,0,0,0,2],\n",
    "                        [0,0,1,0,0,0],\n",
    "                        [0,0,0,0,0,4],\n",
    "                        [0,0,0,0,0,0]])            "
   ]
  },
  {
   "cell_type": "markdown",
   "metadata": {},
   "source": [
    "Now let's test our algorithm implementation on this example network"
   ]
  },
  {
   "cell_type": "code",
   "execution_count": 19,
   "metadata": {},
   "outputs": [],
   "source": [
    "max_flow_value, flow = max_flow(network_adj)"
   ]
  },
  {
   "cell_type": "code",
   "execution_count": 20,
   "metadata": {},
   "outputs": [
    {
     "data": {
      "text/plain": [
       "3"
      ]
     },
     "execution_count": 20,
     "metadata": {},
     "output_type": "execute_result"
    }
   ],
   "source": [
    "max_flow_value"
   ]
  },
  {
   "cell_type": "code",
   "execution_count": null,
   "metadata": {},
   "outputs": [],
   "source": []
  },
  {
   "cell_type": "code",
   "execution_count": null,
   "metadata": {},
   "outputs": [],
   "source": []
  },
  {
   "cell_type": "code",
   "execution_count": null,
   "metadata": {},
   "outputs": [],
   "source": []
  },
  {
   "cell_type": "code",
   "execution_count": null,
   "metadata": {},
   "outputs": [],
   "source": []
  }
 ],
 "metadata": {
  "kernelspec": {
   "display_name": "torch_clone",
   "language": "python",
   "name": "python3"
  },
  "language_info": {
   "codemirror_mode": {
    "name": "ipython",
    "version": 3
   },
   "file_extension": ".py",
   "mimetype": "text/x-python",
   "name": "python",
   "nbconvert_exporter": "python",
   "pygments_lexer": "ipython3",
   "version": "3.11.5"
  }
 },
 "nbformat": 4,
 "nbformat_minor": 2
}
