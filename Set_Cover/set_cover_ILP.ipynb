{
 "cells": [
  {
   "cell_type": "markdown",
   "metadata": {},
   "source": [
    "#### Set Cover Exact Solution via Integer Linear Program\n",
    "\n",
    "We will use the `pulp` library to solve an integer linear program to obtain an exact set cover solution"
   ]
  },
  {
   "cell_type": "code",
   "execution_count": 1,
   "metadata": {},
   "outputs": [],
   "source": [
    "import pulp"
   ]
  },
  {
   "cell_type": "code",
   "execution_count": 2,
   "metadata": {},
   "outputs": [],
   "source": [
    "def solve_set_cover_IP(U, F, weights):\n",
    "    # create IP problem instance\n",
    "    prob = pulp.LpProblem(\"Set Covering Problem\", pulp.LpMinimize)\n",
    "    # create binary decision variables\n",
    "    x = pulp.LpVariable.dicts(\"x\", range(len(F)), lowBound=0, upBound=1, cat=pulp.LpInteger)\n",
    "    # define objective function\n",
    "    prob += pulp.lpSum([weights[i] * x[i] for i in range(len(F))])\n",
    "    # define constraints (each element in U must be covered)\n",
    "    for e in U:\n",
    "        prob += pulp.lpSum([x[i] for i in range(len(F)) if e in F[i]]) >= 1\n",
    "\n",
    "    # solve the LP\n",
    "    prob.solve()\n",
    "\n",
    "    # extract optimal solution\n",
    "    optimal_subsets = [F[i] for i in range(len(F)) if x[i].value() == 1]\n",
    "    optimal_weights = [weights[i] for i in range(len(F)) if x[i].value() == 1]   \n",
    "\n",
    "    return optimal_subsets, optimal_weights"
   ]
  },
  {
   "cell_type": "code",
   "execution_count": 3,
   "metadata": {},
   "outputs": [
    {
     "name": "stdout",
     "output_type": "stream",
     "text": [
      "Welcome to the CBC MILP Solver \n",
      "Version: 2.10.3 \n",
      "Build Date: Dec 15 2019 \n",
      "\n",
      "command line - /home/tanzid/miniconda3/envs/torch_clone_2/lib/python3.11/site-packages/pulp/solverdir/cbc/linux/64/cbc /tmp/2f8b139399da4beb81b53dc192dc00c6-pulp.mps -timeMode elapsed -branch -printingOptions all -solution /tmp/2f8b139399da4beb81b53dc192dc00c6-pulp.sol (default strategy 1)\n",
      "At line 2 NAME          MODEL\n",
      "At line 3 ROWS\n",
      "At line 13 COLUMNS\n",
      "At line 48 RHS\n",
      "At line 57 BOUNDS\n",
      "At line 64 ENDATA\n",
      "Problem MODEL has 8 rows, 6 columns and 16 elements\n",
      "Coin0008I MODEL read with 0 errors\n",
      "Option for timeMode changed from cpu to elapsed\n",
      "Continuous objective value is 2.2 - 0.00 seconds\n",
      "Cgl0004I processed model has 6 rows, 6 columns (6 integer (6 of which binary)) and 12 elements\n",
      "Cutoff increment increased from 1e-05 to 0.0999\n",
      "Cbc0038I Initial state - 0 integers unsatisfied sum - 0\n",
      "Cbc0038I Solution found of 2.2\n",
      "Cbc0038I Before mini branch and bound, 6 integers at bound fixed and 0 continuous\n",
      "Cbc0038I Mini branch and bound did not improve solution (0.00 seconds)\n",
      "Cbc0038I After 0.00 seconds - Feasibility pump exiting with objective of 2.2 - took 0.00 seconds\n",
      "Cbc0012I Integer solution of 2.2 found by feasibility pump after 0 iterations and 0 nodes (0.00 seconds)\n",
      "Cbc0001I Search completed - best objective 2.2, took 0 iterations and 0 nodes (0.00 seconds)\n",
      "Cbc0035I Maximum depth 0, 0 variables fixed on reduced cost\n",
      "Cuts at root node changed objective from 2.2 to 2.2\n",
      "Probing was tried 0 times and created 0 cuts of which 0 were active after adding rounds of cuts (0.000 seconds)\n",
      "Gomory was tried 0 times and created 0 cuts of which 0 were active after adding rounds of cuts (0.000 seconds)\n",
      "Knapsack was tried 0 times and created 0 cuts of which 0 were active after adding rounds of cuts (0.000 seconds)\n",
      "Clique was tried 0 times and created 0 cuts of which 0 were active after adding rounds of cuts (0.000 seconds)\n",
      "MixedIntegerRounding2 was tried 0 times and created 0 cuts of which 0 were active after adding rounds of cuts (0.000 seconds)\n",
      "FlowCover was tried 0 times and created 0 cuts of which 0 were active after adding rounds of cuts (0.000 seconds)\n",
      "TwoMirCuts was tried 0 times and created 0 cuts of which 0 were active after adding rounds of cuts (0.000 seconds)\n",
      "ZeroHalf was tried 0 times and created 0 cuts of which 0 were active after adding rounds of cuts (0.000 seconds)\n",
      "\n",
      "Result - Optimal solution found\n",
      "\n",
      "Objective value:                2.20000000\n",
      "Enumerated nodes:               0\n",
      "Total iterations:               0\n",
      "Time (CPU seconds):             0.00\n",
      "Time (Wallclock seconds):       0.00\n",
      "\n",
      "Option for printingOptions changed from normal to all\n",
      "Total time (CPU seconds):       0.00   (Wallclock seconds):       0.01\n",
      "\n",
      "Optimal subsets: [{1, 3, 5, 7}, {8, 2, 4, 6}]\n",
      "Optimal weights: [1.1, 1.1]\n"
     ]
    },
    {
     "name": "stderr",
     "output_type": "stream",
     "text": [
      "/home/tanzid/miniconda3/envs/torch_clone_2/lib/python3.11/site-packages/pulp/pulp.py:1316: UserWarning: Spaces are not permitted in the name. Converted to '_'\n",
      "  warnings.warn(\"Spaces are not permitted in the name. Converted to '_'\")\n"
     ]
    }
   ],
   "source": [
    "# example universe\n",
    "U = {1,2,3,4,5,6,7,8}\n",
    "# example family of sets\n",
    "eps = 0.1\n",
    "F = [{1,3,5,7}, {2,4,6,8}, {1}, {2}, {3,4}, {5,6,7,8}]\n",
    "weights = [1+eps, 1+eps, 1, 1, 1, 1]\n",
    "\n",
    "optimal_subsets, optimal_weights = solve_set_cover_IP(U, F, weights)\n",
    "print(\"Optimal subsets:\", optimal_subsets)  \n",
    "print(\"Optimal weights:\", optimal_weights)"
   ]
  },
  {
   "cell_type": "code",
   "execution_count": null,
   "metadata": {},
   "outputs": [],
   "source": []
  },
  {
   "cell_type": "code",
   "execution_count": null,
   "metadata": {},
   "outputs": [],
   "source": []
  },
  {
   "cell_type": "code",
   "execution_count": null,
   "metadata": {},
   "outputs": [],
   "source": []
  },
  {
   "cell_type": "code",
   "execution_count": null,
   "metadata": {},
   "outputs": [],
   "source": []
  },
  {
   "cell_type": "code",
   "execution_count": null,
   "metadata": {},
   "outputs": [],
   "source": []
  },
  {
   "cell_type": "code",
   "execution_count": null,
   "metadata": {},
   "outputs": [],
   "source": []
  },
  {
   "cell_type": "code",
   "execution_count": null,
   "metadata": {},
   "outputs": [],
   "source": []
  }
 ],
 "metadata": {
  "kernelspec": {
   "display_name": "torch_clone",
   "language": "python",
   "name": "python3"
  },
  "language_info": {
   "codemirror_mode": {
    "name": "ipython",
    "version": 3
   },
   "file_extension": ".py",
   "mimetype": "text/x-python",
   "name": "python",
   "nbconvert_exporter": "python",
   "pygments_lexer": "ipython3",
   "version": "3.1.-1"
  }
 },
 "nbformat": 4,
 "nbformat_minor": 2
}
