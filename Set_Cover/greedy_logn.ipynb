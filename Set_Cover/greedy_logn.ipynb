{
 "cells": [
  {
   "cell_type": "markdown",
   "metadata": {},
   "source": [
    "#### Greedy Set Cover $O(log n)$ - approximation algorithm\n",
    "\n",
    "Given elements from universe $U$ and family of subsets $F$, with each $S \\in F$ having a weight $w(S)$:\n",
    "\n",
    "* initialize $R \\leftarrow U$ (remaining uncovered elements)\n",
    "* while $R$ is not empty:\n",
    "    * greedily pick the set $S$ with minimum average cost $c_u$ per new element covered, $c_u = \\frac{w(S)}{|S \\cap R|}$ $\\forall u \\in S \\cap R$ (where $S \\cap R$ is the set of new elements covered by set $S$)\n",
    "    * $R \\leftarrow R \\setminus (S \\cap R)$"
   ]
  },
  {
   "cell_type": "code",
   "execution_count": 14,
   "metadata": {},
   "outputs": [],
   "source": [
    "import math"
   ]
  },
  {
   "cell_type": "code",
   "execution_count": 10,
   "metadata": {},
   "outputs": [],
   "source": [
    "# this is just a quick and dirty implementation and is not very efficient\n",
    "def greedy_set_cover(U,F):\n",
    "    # initialize remaining elements to be covered\n",
    "    R = set(U)\n",
    "    cover = []\n",
    "    # create a copy of the list of subsets\n",
    "    subsets = list(F)    \n",
    "\n",
    "    # greedy iterations\n",
    "    while R:\n",
    "        # select the min-cost subset\n",
    "        min_cost = float('inf')\n",
    "        Smin = None\n",
    "        wmin = None\n",
    "        for S, w in subsets:\n",
    "            cost = w / len(S & R)\n",
    "            if cost < min_cost:\n",
    "                min_cost = cost\n",
    "                Smin = S\n",
    "                wmin=w\n",
    "\n",
    "        # add the min-cost subset to the cover\n",
    "        cover.append((Smin, wmin))\n",
    "\n",
    "        # remove Smin from the list of subsets\n",
    "        subsets = [(S, w) for S, w in subsets if S != Smin]\n",
    "\n",
    "        # remove all new elements covered by Smin from R and from the remaining subsets\n",
    "        S_new = Smin & R\n",
    "        R = R - S_new  \n",
    "        subsets = [(S-S_new, w) for S, w in subsets]\n",
    "\n",
    "\n",
    "    total_weight = sum([w for S, w in cover])\n",
    "\n",
    "    return cover, total_weight    "
   ]
  },
  {
   "cell_type": "code",
   "execution_count": 13,
   "metadata": {},
   "outputs": [
    {
     "name": "stdout",
     "output_type": "stream",
     "text": [
      "Exact total weight: 2.2\n"
     ]
    }
   ],
   "source": [
    "# example universe\n",
    "U = {1,2,3,4,5,6,7,8}\n",
    "# example family of sets\n",
    "eps = 0.1\n",
    "F = [({1,3,5,7}, 1+eps), ({2,4,6,8}, 1+eps), ({1}, 1), ({2}, 1), ({3,4}, 1), ({5,6,7,8}, 1)]\n",
    "\n",
    "exact_cover = [F[0], F[1]]\n",
    "exact_total_weight = sum([w for S, w in exact_cover])\n",
    "print(f\"Exact total weight: {exact_total_weight}\")\n"
   ]
  },
  {
   "cell_type": "code",
   "execution_count": 15,
   "metadata": {},
   "outputs": [
    {
     "name": "stdout",
     "output_type": "stream",
     "text": [
      " Greedy total weight = 4, greedy approximation factor = 1.82 | theoretical approximation factor = log(n) = 2.08\n"
     ]
    }
   ],
   "source": [
    "cover, total_weight = greedy_set_cover(U,F)\n",
    "approximation_factor = total_weight/exact_total_weight\n",
    "\n",
    "print(f\" Greedy total weight = {total_weight}, greedy approximation factor = {approximation_factor:.2f} | theoretical approximation factor = log(n) = {math.log(len(U)):.2f}\")"
   ]
  },
  {
   "cell_type": "code",
   "execution_count": null,
   "metadata": {},
   "outputs": [],
   "source": []
  },
  {
   "cell_type": "code",
   "execution_count": null,
   "metadata": {},
   "outputs": [],
   "source": []
  },
  {
   "cell_type": "code",
   "execution_count": null,
   "metadata": {},
   "outputs": [],
   "source": []
  },
  {
   "cell_type": "code",
   "execution_count": null,
   "metadata": {},
   "outputs": [],
   "source": []
  },
  {
   "cell_type": "code",
   "execution_count": null,
   "metadata": {},
   "outputs": [],
   "source": []
  }
 ],
 "metadata": {
  "kernelspec": {
   "display_name": "torch_clone",
   "language": "python",
   "name": "python3"
  },
  "language_info": {
   "codemirror_mode": {
    "name": "ipython",
    "version": 3
   },
   "file_extension": ".py",
   "mimetype": "text/x-python",
   "name": "python",
   "nbconvert_exporter": "python",
   "pygments_lexer": "ipython3",
   "version": "3.11.5"
  }
 },
 "nbformat": 4,
 "nbformat_minor": 2
}
