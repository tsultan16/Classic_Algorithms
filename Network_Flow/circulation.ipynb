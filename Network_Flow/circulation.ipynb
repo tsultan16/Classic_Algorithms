{
 "cells": [
  {
   "cell_type": "markdown",
   "metadata": {},
   "source": [
    "#### Feasible Circulation Problem:\n",
    "\n",
    "In this problem, we have a `circulation network` $G = (V,E)$ containing a set of multiple sources $S \\subset E $ and a set of sinks $T \\subset E$. Each vertex $v \\in V$ has a `demand value` $d_v$ associated with it. The goal is to find a `feasible circulation`, i.e. a flow $f$ for which $f^{in}(v)-f^{out}(v)=d_v$ for all $v$. \n",
    "\n",
    "This problem can be solved by reduction of the circulation network $G$ into a flow network $G'=(V',E')$ where \n",
    "\n",
    "$V' = V + \\{s^*,t^*\\}$, \n",
    "\n",
    "$E'= E + \\{(s^*,v)| \\forall v \\in S\\}+ \\{(v,t^*)| \\forall v \\in T\\}$,\n",
    "\n",
    "capacity of each edge $(s^*,v)$ is $-d_v$ and capacity of each edge $(v,t^*)$ is $d_v$. \n",
    "\n",
    "We've introduced two new nodes, $s^*$ which is a single `super-source` and $t^*$ is a `super-sink`. Then if we solve for the max-flow $f$ in $G'$ and find that $|f|=D=\\sum_{v\\in S} -d_v = \\sum_{v\\in T} d_v$, then f is a feasible circulation in $G$.    "
   ]
  },
  {
   "cell_type": "code",
   "execution_count": null,
   "metadata": {},
   "outputs": [],
   "source": []
  },
  {
   "cell_type": "code",
   "execution_count": null,
   "metadata": {},
   "outputs": [],
   "source": []
  },
  {
   "cell_type": "code",
   "execution_count": null,
   "metadata": {},
   "outputs": [],
   "source": []
  },
  {
   "cell_type": "code",
   "execution_count": null,
   "metadata": {},
   "outputs": [],
   "source": []
  },
  {
   "cell_type": "code",
   "execution_count": null,
   "metadata": {},
   "outputs": [],
   "source": []
  }
 ],
 "metadata": {
  "language_info": {
   "name": "python"
  }
 },
 "nbformat": 4,
 "nbformat_minor": 2
}
