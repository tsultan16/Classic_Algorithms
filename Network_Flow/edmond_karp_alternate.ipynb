{
 "cells": [
  {
   "cell_type": "markdown",
   "metadata": {},
   "source": [
    "#### Edmond-Karp Algorithm for Max-Flow "
   ]
  },
  {
   "cell_type": "code",
   "execution_count": 24,
   "metadata": {},
   "outputs": [],
   "source": [
    "import numpy as np"
   ]
  },
  {
   "cell_type": "markdown",
   "metadata": {},
   "source": [
    "#### Edmond-Karp Algorithm implementation"
   ]
  },
  {
   "cell_type": "code",
   "execution_count": 25,
   "metadata": {},
   "outputs": [],
   "source": [
    "def max_flow(adjacency_matrix, verbose=False):\n",
    "    # initialize zero flow\n",
    "    flow = np.zeros_like(adjacency_matrix)\n",
    "    # initialize label tuples\n",
    "    labels = [0]*len(adjacency_matrix)\n",
    "    # intialize empty BFS queue\n",
    "    Q = []\n",
    "    # add source to the queue\n",
    "    Q.append(0)\n",
    "    labels[0] = (float('inf'), None, None)\n",
    "    num_iterations = 0\n",
    "    \n",
    "    # perform iterations of label-enhanced BFS until the queue is empty\n",
    "    while len(Q) > 0:\n",
    "        # pop the first element from the queue\n",
    "        i = Q.pop(0)\n",
    "        if verbose: print(f\"Front vertex in queue: {i}, current label: {labels[i]}\")\n",
    "        l_i, _, _ = labels[i]\n",
    "        # visit all forward edges from the current node\n",
    "        for j in range(adjacency_matrix.shape[1]):\n",
    "            if adjacency_matrix[i,j] > 0:\n",
    "                # check if j is unlabeled\n",
    "                if labels[j] == 0:\n",
    "                    # check if edge (i,j) has unused capacity\n",
    "                    r_ij = adjacency_matrix[i,j] - flow[i,j]\n",
    "                    if r_ij > 0:\n",
    "                        # add j to the queue\n",
    "                        Q.append(j)\n",
    "                        # label j\n",
    "                        l_j = min(l_i, r_ij)\n",
    "                        labels[j] = (l_j, i, '+')\n",
    "                        if verbose: print(f\"Labeled vertex: {j}, label: {labels[j]}\")\n",
    "\n",
    "        # visit all backward edges\n",
    "        for j in range(adjacency_matrix.shape[0]):\n",
    "            if adjacency_matrix[j,i] > 0:\n",
    "                # check if j is unlabeled\n",
    "                if labels[j] == 0:\n",
    "                    # check if edge (j,i) has unused capacity\n",
    "                    x_ji = flow[j,i]\n",
    "                    if x_ji > 0:\n",
    "                        # add j to the queue\n",
    "                        Q.append(j)     \n",
    "                        # label j\n",
    "                        l_j = min(l_i, x_ji)\n",
    "                        labels[j] = (l_j, i, '-')\n",
    "                        if verbose: print(f\"Labeled vertex: {j}, label: {labels[j]}\")\n",
    "\n",
    "        # if sink is labeled, augment the flow, reset the labels and put the source back to the queue\n",
    "        if labels[-1] != 0:\n",
    "            l_n, i, direction = labels[-1]\n",
    "            j = len(labels)-1\n",
    "            while j != 0:\n",
    "                l_j, i, direction = labels[j]\n",
    "                if direction == '+':\n",
    "                    flow[i,j] += l_n\n",
    "                else:\n",
    "                    flow[j,i] -= l_n    \n",
    "                j = i     \n",
    "            # erase the labels\n",
    "            labels = [0]*len(adjacency_matrix)\n",
    "            # reset the queue and add source vertex\n",
    "            Q = [0] \n",
    "            labels[0] = (float('inf'), None, None)     \n",
    "            num_iterations += 1      \n",
    "            if verbose: print(\"Flow augmented!\")                        \n",
    "\n",
    "    # find the min-cut: C(X, X_c), the labaled vertices are X and the unlabeled vertices are X_c \n",
    "    min_cut = set()\n",
    "    labeled_vertices = []\n",
    "    unlabeled_vertices = []\n",
    "    for i in range(len(labels)):\n",
    "        if labels[i] != 0:\n",
    "            labeled_vertices.append(i)\n",
    "        else:\n",
    "            unlabeled_vertices.append(i)    \n",
    "    for i in labeled_vertices:\n",
    "        for j in range(adjacency_matrix.shape[1]):\n",
    "            if adjacency_matrix[i,j] > 0 and j not in labeled_vertices:\n",
    "                min_cut.add((i,j))\n",
    "\n",
    "    if verbose: print(f\"Max flow value: {np.sum(flow[0,:])}, min-cut: {min_cut}, number of iterations: {num_iterations}\")\n",
    "\n",
    "    max_flow_value = np.sum(flow[0,:])\n",
    "    return max_flow_value, flow, min_cut\n"
   ]
  },
  {
   "cell_type": "markdown",
   "metadata": {},
   "source": [
    "Create an adjacency matrix for an example network.\n",
    "\n",
    "<img src=\"example_1.png\" width=\"450\" height=\"250\">\n",
    "\n"
   ]
  },
  {
   "cell_type": "code",
   "execution_count": 16,
   "metadata": {},
   "outputs": [],
   "source": [
    "network_adj = np.array([[0,2,0,3,0,0],\n",
    "                        [0,0,5,0,3,0],\n",
    "                        [0,0,0,0,0,2],\n",
    "                        [0,0,1,0,0,0],\n",
    "                        [0,0,0,0,0,4],\n",
    "                        [0,0,0,0,0,0]])            "
   ]
  },
  {
   "cell_type": "markdown",
   "metadata": {},
   "source": [
    "Now let's test our algorithm implementation on this example network"
   ]
  },
  {
   "cell_type": "code",
   "execution_count": 27,
   "metadata": {},
   "outputs": [
    {
     "name": "stdout",
     "output_type": "stream",
     "text": [
      "Front vertex in queue: 0, current label: (inf, None, None)\n",
      "Labeled vertex: 1, label: (2, 0, '+')\n",
      "Labeled vertex: 3, label: (3, 0, '+')\n",
      "Front vertex in queue: 1, current label: (2, 0, '+')\n",
      "Labeled vertex: 2, label: (2, 1, '+')\n",
      "Labeled vertex: 4, label: (2, 1, '+')\n",
      "Front vertex in queue: 3, current label: (3, 0, '+')\n",
      "Front vertex in queue: 2, current label: (2, 1, '+')\n",
      "Labeled vertex: 5, label: (2, 2, '+')\n",
      "Flow augmented!\n",
      "Front vertex in queue: 0, current label: (inf, None, None)\n",
      "Labeled vertex: 3, label: (3, 0, '+')\n",
      "Front vertex in queue: 3, current label: (3, 0, '+')\n",
      "Labeled vertex: 2, label: (1, 3, '+')\n",
      "Front vertex in queue: 2, current label: (1, 3, '+')\n",
      "Labeled vertex: 1, label: (1, 2, '-')\n",
      "Front vertex in queue: 1, current label: (1, 2, '-')\n",
      "Labeled vertex: 4, label: (1, 1, '+')\n",
      "Front vertex in queue: 4, current label: (1, 1, '+')\n",
      "Labeled vertex: 5, label: (1, 4, '+')\n",
      "Flow augmented!\n",
      "Front vertex in queue: 0, current label: (inf, None, None)\n",
      "Labeled vertex: 3, label: (2, 0, '+')\n",
      "Front vertex in queue: 3, current label: (2, 0, '+')\n",
      "Max flow value: 3, min-cut: {(0, 1), (3, 2)}, number of iterations: 2\n"
     ]
    }
   ],
   "source": [
    "max_flow_value, flow, min_cut = max_flow(network_adj, verbose=True)"
   ]
  },
  {
   "cell_type": "code",
   "execution_count": null,
   "metadata": {},
   "outputs": [],
   "source": []
  },
  {
   "cell_type": "code",
   "execution_count": null,
   "metadata": {},
   "outputs": [],
   "source": []
  },
  {
   "cell_type": "code",
   "execution_count": null,
   "metadata": {},
   "outputs": [],
   "source": []
  },
  {
   "cell_type": "code",
   "execution_count": null,
   "metadata": {},
   "outputs": [],
   "source": []
  }
 ],
 "metadata": {
  "kernelspec": {
   "display_name": "torch_clone",
   "language": "python",
   "name": "python3"
  },
  "language_info": {
   "codemirror_mode": {
    "name": "ipython",
    "version": 3
   },
   "file_extension": ".py",
   "mimetype": "text/x-python",
   "name": "python",
   "nbconvert_exporter": "python",
   "pygments_lexer": "ipython3",
   "version": "3.11.5"
  }
 },
 "nbformat": 4,
 "nbformat_minor": 2
}
