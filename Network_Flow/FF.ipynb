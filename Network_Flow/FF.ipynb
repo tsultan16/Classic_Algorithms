{
 "cells": [
  {
   "cell_type": "markdown",
   "metadata": {},
   "source": [
    "#### Ford-Fulkerson (FF) Alrogithm for Maximum Flow\n",
    "\n",
    "We will first implement FF without scaling. We will use BFS traversal to find s-t paths."
   ]
  },
  {
   "cell_type": "code",
   "execution_count": 57,
   "metadata": {},
   "outputs": [],
   "source": [
    "# use BFS to find path from s to t in Gf\n",
    "def find_st_path(adjacency_list, s, t):\n",
    "    assert (s >= 0 and s < len(adjacency_list)), \"s is out of range\"\n",
    "    # initialize all vertices as undiscovered except for s\n",
    "    discovered = [False] * len(adjacency_list)\n",
    "    discovered[s] = True\n",
    "    parent = [None] * len(adjacency_list)\n",
    "    # intiialize BFS queue\n",
    "    Q = []\n",
    "    Q.append(s)\n",
    "    # initialize s-t path\n",
    "    path = []\n",
    "    # run BFS\n",
    "    while len(Q)>0:\n",
    "        # pop vertex from front of queue\n",
    "        u = Q.pop(0)\n",
    "        # find vertices adjacent to u and add them to the Q if they are undiscovered\n",
    "        for (v,ce) in adjacency_list[u]:\n",
    "            if not discovered[v]:\n",
    "                discovered[v] = True\n",
    "                parent[v] = (u, ce)\n",
    "                # if v is t, then we have found the path\n",
    "                if v == t:\n",
    "                    # reconstruct path from s to t following parent pointers\n",
    "                    while parent[t] != None:\n",
    "                        # add edge to path\n",
    "                        edge = (parent[t][0], t, parent[t][1])\n",
    "                        path.append(edge)\n",
    "                        t = parent[t][0]\n",
    "                    return path\n",
    "                # add to Q\n",
    "                Q.append(v)\n",
    " \n",
    "    # if we reach here, then there is no s-t path\n",
    "    return path            \n",
    "\n",
    "\n",
    "def construct_residual_graph(adjacency_list, flow, capacity):\n",
    "    Gf_adjacency_list = {u:[] for u in adjacency_list.keys()}\n",
    "    for u in range(len(adjacency_list)):\n",
    "        for (v, ce) in adjacency_list[u]:\n",
    "            # add forward edge if there's non-zero residual capacity\n",
    "            residual_ce = capacity[(u, v)] - flow[(u, v)]\n",
    "            if residual_ce > 0:\n",
    "                Gf_adjacency_list[u].append((v, residual_ce))\n",
    "            # add backward edge if there's non-zero flow \n",
    "            if flow[(u, v)] > 0:\n",
    "                Gf_adjacency_list[v].append((u, flow[(u, v)]))\n",
    "\n",
    "    return Gf_adjacency_list            \n",
    "\n",
    "\n",
    "def FF_nosclaing(adjacency_list, verbose=False):\n",
    "    # initialize the flow to 0\n",
    "    flow = {}\n",
    "    capacity = {}\n",
    "    for u in adjacency_list.keys():\n",
    "        for (v, ce) in adjacency_list[u]:\n",
    "            flow[(u, v)] = 0\n",
    "            capacity[(u, v)] = ce\n",
    "\n",
    "    # construct residual graph\n",
    "    Gf_adjacency_list = construct_residual_graph(adjacency_list, flow, capacity)\n",
    "    if verbose:\n",
    "        print(\"Initial residual graph:\")\n",
    "        print(Gf_adjacency_list)\n",
    "\n",
    "    s = 0\n",
    "    t = len(adjacency_list)-1 \n",
    "    num_iterations = 0\n",
    "    # run augmenting iterations\n",
    "    while True:\n",
    "        # find s-t path in Gf\n",
    "        path = find_st_path(Gf_adjacency_list, s, t)\n",
    "        # if there is no s-t path, then we are done\n",
    "        if len(path) == 0:\n",
    "            if verbose:\n",
    "                flow_value = sum([flow[(s, v)] for (v, _) in adjacency_list[s]])\n",
    "                print(f\"\\nMax flow found! |f| = {flow_value}, total iterations = {num_iterations}\")\n",
    "            return flow\n",
    "        else:\n",
    "            # find bottleneck capacity of path\n",
    "            bottleneck_capacity = float('inf')\n",
    "            for (u, v, ce) in path:\n",
    "                if ce < bottleneck_capacity:\n",
    "                    bottleneck_capacity = ce\n",
    "            # augment flow along path\n",
    "            for (u, v, ce) in path:\n",
    "                if (u, v) in capacity:\n",
    "                    # increase flow along forward edge (u, v)\n",
    "                    flow[(u, v)] += bottleneck_capacity\n",
    "                else:\n",
    "                    # decrease flow along backward edge (v, u)\n",
    "                    flow[(v, u)] -= bottleneck_capacity \n",
    "            # construct updated residual graph        \n",
    "            Gf_adjacency_list = construct_residual_graph(adjacency_list, flow, capacity)     \n",
    "            \n",
    "            if verbose:\n",
    "                print(f\"\\nFlow augmented along path: {path} by amount: {bottleneck_capacity}\")\n",
    "                print(f\"New residual graph: \\n {Gf_adjacency_list}\")\n",
    "                print(f\"Augmented Flow: \\n {flow}\")   \n",
    "\n",
    "            num_iterations += 1                   "
   ]
  },
  {
   "cell_type": "markdown",
   "metadata": {},
   "source": [
    "Example flow network:\n",
    "\n",
    "<img src=\"example_1.png\" width=\"450\" height=\"230\">\n"
   ]
  },
  {
   "cell_type": "code",
   "execution_count": 58,
   "metadata": {},
   "outputs": [],
   "source": [
    "# adjacenecy list of each node contains a tuple of (node, capacity), node 0 is the source and node 5 is the sink\n",
    "adjacency_list = {0:[(1,2), (3,3)], 1:[(2,5), (4,3)], 2:[(5,2)], 3:[(2,1)], 4:[(5,4)], 5:[]}"
   ]
  },
  {
   "cell_type": "code",
   "execution_count": 59,
   "metadata": {},
   "outputs": [
    {
     "name": "stdout",
     "output_type": "stream",
     "text": [
      "Initial residual graph:\n",
      "{0: [(1, 2), (3, 3)], 1: [(2, 5), (4, 3)], 2: [(5, 2)], 3: [(2, 1)], 4: [(5, 4)], 5: []}\n",
      "\n",
      "Flow augmented along path: [(2, 5, 2), (1, 2, 5), (0, 1, 2)] by amount: 2\n",
      "New residual graph: \n",
      " {0: [(3, 3)], 1: [(0, 2), (2, 3), (4, 3)], 2: [(1, 2)], 3: [(2, 1)], 4: [(5, 4)], 5: [(2, 2)]}\n",
      "Augmented Flow: \n",
      " {(0, 1): 2, (0, 3): 0, (1, 2): 2, (1, 4): 0, (2, 5): 2, (3, 2): 0, (4, 5): 0}\n",
      "\n",
      "Flow augmented along path: [(4, 5, 4), (1, 4, 3), (2, 1, 2), (3, 2, 1), (0, 3, 3)] by amount: 1\n",
      "New residual graph: \n",
      " {0: [(3, 2)], 1: [(0, 2), (2, 4), (4, 2)], 2: [(1, 1), (3, 1)], 3: [(0, 1)], 4: [(1, 1), (5, 3)], 5: [(2, 2), (4, 1)]}\n",
      "Augmented Flow: \n",
      " {(0, 1): 2, (0, 3): 1, (1, 2): 1, (1, 4): 1, (2, 5): 2, (3, 2): 1, (4, 5): 1}\n",
      "\n",
      "Max flow found! |f| = 3, total iterations = 2\n"
     ]
    }
   ],
   "source": [
    "# run Ford-Fulkerson algorithm\n",
    "flow = FF_nosclaing(adjacency_list, verbose=True)"
   ]
  },
  {
   "cell_type": "code",
   "execution_count": null,
   "metadata": {},
   "outputs": [],
   "source": []
  },
  {
   "cell_type": "code",
   "execution_count": null,
   "metadata": {},
   "outputs": [],
   "source": []
  },
  {
   "cell_type": "code",
   "execution_count": null,
   "metadata": {},
   "outputs": [],
   "source": []
  },
  {
   "cell_type": "code",
   "execution_count": null,
   "metadata": {},
   "outputs": [],
   "source": []
  }
 ],
 "metadata": {
  "kernelspec": {
   "display_name": "torch_clone",
   "language": "python",
   "name": "python3"
  },
  "language_info": {
   "codemirror_mode": {
    "name": "ipython",
    "version": 3
   },
   "file_extension": ".py",
   "mimetype": "text/x-python",
   "name": "python",
   "nbconvert_exporter": "python",
   "pygments_lexer": "ipython3",
   "version": "3.11.5"
  }
 },
 "nbformat": 4,
 "nbformat_minor": 2
}
