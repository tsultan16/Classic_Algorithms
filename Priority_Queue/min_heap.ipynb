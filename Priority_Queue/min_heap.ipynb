{
 "cells": [
  {
   "cell_type": "markdown",
   "metadata": {},
   "source": [
    "#### Priority Queue implementation using Min-Heap\n",
    "\n",
    "Each item is a tuple of the form `(key, value)` "
   ]
  },
  {
   "cell_type": "code",
   "execution_count": 5,
   "metadata": {},
   "outputs": [],
   "source": [
    "class PriorityQueue:\n",
    "    def __init__(self, capacity=10, items=[]):\n",
    "        self.empty = (0,'Null')\n",
    "        if len(items)>0:\n",
    "            assert capacity >= len(items), \"capacity must be greater than or equal to the number of items!\"\n",
    "            self.N = len(items)\n",
    "            self.queue = [self.empty] + items + [self.empty] * (capacity-self.N)\n",
    "            # heapify\n",
    "            self.heapify()\n",
    "        else:    \n",
    "            self.queue = [self.empty] * (capacity+1) \n",
    "            self.N = 0\n",
    "\n",
    "    def heapify(self):\n",
    "        # start from the last parent node up to root\n",
    "        for i in range(self.N//2, 0, -1):\n",
    "            # apply heapify down\n",
    "            self.heapify_down(i)\n",
    "\n",
    "    def heapify_up(self, i):\n",
    "        if i > 1:\n",
    "            current_item = self.queue[i]\n",
    "            parent_item = self.queue[i//2]\n",
    "            if current_item[0] < parent_item[0]:\n",
    "                # swap with parent\n",
    "                self.queue[i//2] = current_item\n",
    "                self.queue[i] = parent_item\n",
    "                # recurse from parent position\n",
    "                self.heapify_up(i//2) \n",
    "\n",
    "    def heapify_down(self, i):\n",
    "        if 2*i > self.N:\n",
    "            return \n",
    "        elif 2*i < self.N:    \n",
    "            # get index of child with the smaller key\n",
    "            if self.queue[2*i][0] <= self.queue[2*i+1][0]:\n",
    "                j = 2*i\n",
    "            else:\n",
    "                j= 2*i+1    \n",
    "        else:\n",
    "            j = 2*i\n",
    "        current_item = self.queue[i]\n",
    "        if current_item[0] > self.queue[j][0]:\n",
    "            # swap with smallest child\n",
    "            self.queue[i] = self.queue[j]\n",
    "            self.queue[j] = current_item\n",
    "            # recurse from child position\n",
    "            self.heapify_down(j)\n",
    "\n",
    "    def insert(self, item):\n",
    "        # insert item into first unoccupied slot\n",
    "        self.queue[self.N+1] = item\n",
    "        # heapify up\n",
    "        self.heapify_up(self.N+1)        \n",
    "        self.N += 1\n",
    "\n",
    "    def extract_min(self):\n",
    "        # swap root with the last item\n",
    "        min_item = self.queue[1]\n",
    "        self.queue[1] = self.queue[self.N]\n",
    "        self.queue[self.N] = self.empty\n",
    "        self.N -= 1\n",
    "        # heapify down\n",
    "        self.heapify_down(1)\n",
    "        return min_item\n",
    "\n",
    "    def delete(self, i):\n",
    "        current_item = self.queue[i]\n",
    "        # swap with last item\n",
    "        self.queue[i] = self.queue[self.N]\n",
    "        self.queue[self.N] = self.empty\n",
    "        self.N -= 1\n",
    "        # check if we need to heapify up or down\n",
    "        if current_item[0] < self.queue[i//2][0]:\n",
    "            self.heapify_up(i)\n",
    "        else:\n",
    "            self.heapify_down(i)\n",
    "        return current_item\n",
    "\n",
    "    def __str__(self):\n",
    "        print(f\"N = {self.N}\")\n",
    "        return str(self.queue)  "
   ]
  },
  {
   "cell_type": "code",
   "execution_count": 3,
   "metadata": {},
   "outputs": [
    {
     "name": "stdout",
     "output_type": "stream",
     "text": [
      "N = 0\n",
      "[(0, 'Null'), (0, 'Null'), (0, 'Null'), (0, 'Null'), (0, 'Null'), (0, 'Null'), (0, 'Null'), (0, 'Null'), (0, 'Null'), (0, 'Null'), (0, 'Null')]\n",
      "N = 7\n",
      "[(0, 'Null'), (1, 'e'), (2, 'c'), (3, 'g'), (12, 'd'), (7, 'b'), (9, 'f'), (4, 'a'), (0, 'Null'), (0, 'Null'), (0, 'Null')]\n",
      "min item:  (1, 'e')\n",
      "N = 6\n",
      "[(0, 'Null'), (2, 'c'), (4, 'a'), (3, 'g'), (12, 'd'), (7, 'b'), (9, 'f'), (0, 'Null'), (0, 'Null'), (0, 'Null'), (0, 'Null')]\n",
      "removed item from position 3:  (3, 'g')\n",
      "N = 5\n",
      "[(0, 'Null'), (2, 'c'), (4, 'a'), (9, 'f'), (12, 'd'), (7, 'b'), (0, 'Null'), (0, 'Null'), (0, 'Null'), (0, 'Null'), (0, 'Null')]\n"
     ]
    }
   ],
   "source": [
    "Q = PriorityQueue()\n",
    "print(Q)\n",
    "Q.insert((4, 'a'))\n",
    "Q.insert((7, 'b'))\n",
    "Q.insert((2, 'c'))\n",
    "Q.insert((12, 'd'))\n",
    "Q.insert((1, 'e'))\n",
    "Q.insert((9, 'f'))\n",
    "Q.insert((3, 'g'))\n",
    "print(Q)\n",
    "print(\"min item: \",Q.extract_min())\n",
    "print(Q)\n",
    "print(\"removed item from position 3: \", Q.delete(3))\n",
    "print(Q)\n"
   ]
  },
  {
   "cell_type": "code",
   "execution_count": 6,
   "metadata": {},
   "outputs": [
    {
     "name": "stdout",
     "output_type": "stream",
     "text": [
      "N = 7\n",
      "[(0, 'Null'), (1, 'e'), (4, 'a'), (2, 'c'), (12, 'd'), (7, 'b'), (9, 'f'), (3, 'g'), (0, 'Null'), (0, 'Null'), (0, 'Null')]\n"
     ]
    }
   ],
   "source": [
    "items = [(4, 'a'), (7, 'b'), (2, 'c'), (12, 'd'), (1, 'e'), (9, 'f'), (3, 'g')]\n",
    "Q = PriorityQueue(items=items)\n",
    "print(Q)"
   ]
  },
  {
   "cell_type": "code",
   "execution_count": null,
   "metadata": {},
   "outputs": [],
   "source": []
  },
  {
   "cell_type": "code",
   "execution_count": null,
   "metadata": {},
   "outputs": [],
   "source": []
  }
 ],
 "metadata": {
  "kernelspec": {
   "display_name": "torch_clone",
   "language": "python",
   "name": "python3"
  },
  "language_info": {
   "codemirror_mode": {
    "name": "ipython",
    "version": 3
   },
   "file_extension": ".py",
   "mimetype": "text/x-python",
   "name": "python",
   "nbconvert_exporter": "python",
   "pygments_lexer": "ipython3",
   "version": "3.11.5"
  }
 },
 "nbformat": 4,
 "nbformat_minor": 2
}
