{
 "cells": [
  {
   "cell_type": "markdown",
   "metadata": {},
   "source": [
    "#### Priority Queue implementation using Min-Heap\n",
    "\n",
    "Each item is a tuple of the form `(key, value)` "
   ]
  },
  {
   "cell_type": "code",
   "execution_count": 12,
   "metadata": {},
   "outputs": [],
   "source": [
    "class PriorityQueue:\n",
    "    def __init__(self, capacity=10):\n",
    "        self.queue = [(0,0)] * (capacity+1) \n",
    "        self.N = 0\n",
    "\n",
    "    def insert(self, item):\n",
    "        # insert item into first unoccupied slot\n",
    "        self.queue[self.N+1] = item\n",
    "        # heapify up\n",
    "        self.heapify_up(self.N+1)        \n",
    "        self.N += 1\n",
    "\n",
    "    def heapify_up(self, i):\n",
    "        if i > 1:\n",
    "            current_item = self.queue[i]\n",
    "            parent_item = self.queue[i//2]\n",
    "            if current_item[0] < parent_item[0]:\n",
    "                # swap with parent\n",
    "                self.queue[i//2] = current_item\n",
    "                self.queue[i] = parent_item\n",
    "                # recurse from parent position\n",
    "                self.heapify_up(i//2) \n",
    "\n",
    "    \n",
    "\n",
    "    def remove(self):\n",
    "        pass\n",
    "        #return self.queue.pop()\n",
    "\n",
    "    def __str__(self):\n",
    "        print(f\"N = {self.N}\")\n",
    "        return str(self.queue)  "
   ]
  },
  {
   "cell_type": "code",
   "execution_count": 16,
   "metadata": {},
   "outputs": [
    {
     "name": "stdout",
     "output_type": "stream",
     "text": [
      "N = 0\n",
      "[(0, 0), (0, 0), (0, 0), (0, 0), (0, 0), (0, 0), (0, 0), (0, 0), (0, 0), (0, 0), (0, 0)]\n",
      "N = 1\n",
      "[(0, 0), (4, 'a'), (0, 0), (0, 0), (0, 0), (0, 0), (0, 0), (0, 0), (0, 0), (0, 0), (0, 0)]\n",
      "N = 2\n",
      "[(0, 0), (4, 'a'), (7, 'b'), (0, 0), (0, 0), (0, 0), (0, 0), (0, 0), (0, 0), (0, 0), (0, 0)]\n",
      "N = 3\n",
      "[(0, 0), (2, 'c'), (7, 'b'), (4, 'a'), (0, 0), (0, 0), (0, 0), (0, 0), (0, 0), (0, 0), (0, 0)]\n",
      "N = 4\n",
      "[(0, 0), (2, 'c'), (7, 'b'), (4, 'a'), (12, 'd'), (0, 0), (0, 0), (0, 0), (0, 0), (0, 0), (0, 0)]\n",
      "N = 5\n",
      "[(0, 0), (1, 'e'), (2, 'c'), (4, 'a'), (12, 'd'), (7, 'b'), (0, 0), (0, 0), (0, 0), (0, 0), (0, 0)]\n",
      "N = 6\n",
      "[(0, 0), (1, 'e'), (2, 'c'), (4, 'a'), (12, 'd'), (7, 'b'), (9, 'f'), (0, 0), (0, 0), (0, 0), (0, 0)]\n"
     ]
    }
   ],
   "source": [
    "Q = PriorityQueue()\n",
    "print(Q)\n",
    "Q.insert((4, 'a'))\n",
    "print(Q)\n",
    "Q.insert((7, 'b'))\n",
    "print(Q)\n",
    "Q.insert((2, 'c'))\n",
    "print(Q)\n",
    "Q.insert((12, 'd'))\n",
    "print(Q)\n",
    "Q.insert((1, 'e'))\n",
    "print(Q)\n",
    "Q.insert((9, 'f'))\n",
    "print(Q)\n",
    "\n"
   ]
  },
  {
   "cell_type": "code",
   "execution_count": null,
   "metadata": {},
   "outputs": [],
   "source": []
  },
  {
   "cell_type": "code",
   "execution_count": null,
   "metadata": {},
   "outputs": [],
   "source": []
  }
 ],
 "metadata": {
  "kernelspec": {
   "display_name": "torch_clone",
   "language": "python",
   "name": "python3"
  },
  "language_info": {
   "codemirror_mode": {
    "name": "ipython",
    "version": 3
   },
   "file_extension": ".py",
   "mimetype": "text/x-python",
   "name": "python",
   "nbconvert_exporter": "python",
   "pygments_lexer": "ipython3",
   "version": "3.11.5"
  }
 },
 "nbformat": 4,
 "nbformat_minor": 2
}
