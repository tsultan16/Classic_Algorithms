{
 "cells": [
  {
   "cell_type": "markdown",
   "metadata": {},
   "source": [
    "#### Priority Queue implementation using Min-Heap\n",
    "\n",
    "Each item is a tuple of the form `(key, value)` "
   ]
  },
  {
   "cell_type": "code",
   "execution_count": 23,
   "metadata": {},
   "outputs": [],
   "source": [
    "class PriorityQueue:\n",
    "    def __init__(self, capacity=10):\n",
    "        self.queue = [(0,0)] * (capacity+1) \n",
    "        self.N = 0\n",
    "\n",
    "    def insert(self, item):\n",
    "        # insert item into first unoccupied slot\n",
    "        self.queue[self.N+1] = item\n",
    "        # heapify up\n",
    "        self.heapify_up(self.N+1)        \n",
    "        self.N += 1\n",
    "\n",
    "    def heapify_up(self, i):\n",
    "        if i > 1:\n",
    "            current_item = self.queue[i]\n",
    "            parent_item = self.queue[i//2]\n",
    "            if current_item[0] < parent_item[0]:\n",
    "                # swap with parent\n",
    "                self.queue[i//2] = current_item\n",
    "                self.queue[i] = parent_item\n",
    "                # recurse from parent position\n",
    "                self.heapify_up(i//2) \n",
    "\n",
    "    def heapify_down(self, i):\n",
    "        if 2*i > self.N:\n",
    "            return \n",
    "        elif 2*i < self.N:    \n",
    "            left = 2*i\n",
    "            right = 2*i+1\n",
    "            # get index of child with the smaller key\n",
    "            if self.queue[left][0] <= self.queue[right][0]:\n",
    "                j = left\n",
    "            else:\n",
    "                j= right    \n",
    "        else:\n",
    "            j = 2*i\n",
    "        current_item = self.queue[i]\n",
    "        if current_item[0] > self.queue[j][0]:\n",
    "            # swap with smallest child\n",
    "            self.queue[i] = self.queue[j]\n",
    "            self.queue[j] = current_item\n",
    "            # recurse from child position\n",
    "            self.heapify_down(j)\n",
    "\n",
    "    def extract_min(self):\n",
    "        # swap root with the last item\n",
    "        min_item = self.queue[1]\n",
    "        self.queue[1] = self.queue[self.N]\n",
    "        self.queue[self.N] = (0,0)\n",
    "        self.N -= 1\n",
    "        # heapify down\n",
    "        self.heapify_down(1)\n",
    "        return min_item\n",
    "\n",
    "    def remove(self, i):\n",
    "        current_item = self.queue[i]\n",
    "        # swap with last item\n",
    "        self.queue[i] = self.queue[self.N]\n",
    "        self.queue[self.N] = (0,0)\n",
    "        self.N -= 1\n",
    "        # check if we need to heapify up or down\n",
    "        if current_item[0] < self.queue[i//2][0]:\n",
    "            self.heapify_up(i)\n",
    "        else:\n",
    "            self.heapify_down(i)\n",
    "\n",
    "    def __str__(self):\n",
    "        print(f\"N = {self.N}\")\n",
    "        return str(self.queue)  "
   ]
  },
  {
   "cell_type": "code",
   "execution_count": 25,
   "metadata": {},
   "outputs": [
    {
     "name": "stdout",
     "output_type": "stream",
     "text": [
      "N = 0\n",
      "[(0, 0), (0, 0), (0, 0), (0, 0), (0, 0), (0, 0), (0, 0), (0, 0), (0, 0), (0, 0), (0, 0)]\n",
      "N = 1\n",
      "[(0, 0), (4, 'a'), (0, 0), (0, 0), (0, 0), (0, 0), (0, 0), (0, 0), (0, 0), (0, 0), (0, 0)]\n",
      "N = 2\n",
      "[(0, 0), (4, 'a'), (7, 'b'), (0, 0), (0, 0), (0, 0), (0, 0), (0, 0), (0, 0), (0, 0), (0, 0)]\n",
      "N = 3\n",
      "[(0, 0), (2, 'c'), (7, 'b'), (4, 'a'), (0, 0), (0, 0), (0, 0), (0, 0), (0, 0), (0, 0), (0, 0)]\n",
      "N = 4\n",
      "[(0, 0), (2, 'c'), (7, 'b'), (4, 'a'), (12, 'd'), (0, 0), (0, 0), (0, 0), (0, 0), (0, 0), (0, 0)]\n",
      "N = 5\n",
      "[(0, 0), (1, 'e'), (2, 'c'), (4, 'a'), (12, 'd'), (7, 'b'), (0, 0), (0, 0), (0, 0), (0, 0), (0, 0)]\n",
      "N = 6\n",
      "[(0, 0), (1, 'e'), (2, 'c'), (4, 'a'), (12, 'd'), (7, 'b'), (9, 'f'), (0, 0), (0, 0), (0, 0), (0, 0)]\n",
      "min item:  (1, 'e')\n",
      "N = 5\n",
      "[(0, 0), (2, 'c'), (7, 'b'), (4, 'a'), (12, 'd'), (9, 'f'), (0, 0), (0, 0), (0, 0), (0, 0), (0, 0)]\n",
      "N = 4\n",
      "[(0, 0), (2, 'c'), (7, 'b'), (9, 'f'), (12, 'd'), (0, 0), (0, 0), (0, 0), (0, 0), (0, 0), (0, 0)]\n"
     ]
    }
   ],
   "source": [
    "Q = PriorityQueue()\n",
    "print(Q)\n",
    "Q.insert((4, 'a'))\n",
    "print(Q)\n",
    "Q.insert((7, 'b'))\n",
    "print(Q)\n",
    "Q.insert((2, 'c'))\n",
    "print(Q)\n",
    "Q.insert((12, 'd'))\n",
    "print(Q)\n",
    "Q.insert((1, 'e'))\n",
    "print(Q)\n",
    "Q.insert((9, 'f'))\n",
    "print(Q)\n",
    "print(\"min item: \",Q.extract_min())\n",
    "print(Q)\n",
    "Q.remove(3)\n",
    "print(Q)\n"
   ]
  },
  {
   "cell_type": "code",
   "execution_count": null,
   "metadata": {},
   "outputs": [],
   "source": []
  },
  {
   "cell_type": "code",
   "execution_count": null,
   "metadata": {},
   "outputs": [],
   "source": []
  }
 ],
 "metadata": {
  "kernelspec": {
   "display_name": "torch_clone",
   "language": "python",
   "name": "python3"
  },
  "language_info": {
   "codemirror_mode": {
    "name": "ipython",
    "version": 3
   },
   "file_extension": ".py",
   "mimetype": "text/x-python",
   "name": "python",
   "nbconvert_exporter": "python",
   "pygments_lexer": "ipython3",
   "version": "3.11.5"
  }
 },
 "nbformat": 4,
 "nbformat_minor": 2
}
